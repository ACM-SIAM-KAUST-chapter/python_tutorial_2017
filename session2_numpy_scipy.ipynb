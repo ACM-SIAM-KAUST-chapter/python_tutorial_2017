{
 "cells": [
  {
   "cell_type": "code",
   "execution_count": null,
   "metadata": {
    "collapsed": false
   },
   "outputs": [],
   "source": [
    "from IPython.core.display import HTML\n",
    "css_file = './stylesheets/custom.css'\n",
    "HTML(open(css_file, \"r\").read())"
   ]
  },
  {
   "cell_type": "markdown",
   "metadata": {},
   "source": [
    "<img src=\"https://raw.githubusercontent.com/mar-one/ACM-Python-Tutorials-KAUST-2015/master/images/ACM_chapter_logo.png\" width=\"250px\" style=\"float: left;\">\n",
    "<img src=\"https://raw.githubusercontent.com/mar-one/ACM-Python-Tutorials-KAUST-2015/master/images/KAUST_logo.png\" width=\"250px\" style=\"float: right;\">\n",
    "\n",
    "<h1 align=\"center\">Introduction to NumPy &amp;&nbsp;Scipy&nbsp;-<br/>the core numerical scientific packages</h1>\n",
    "<p> <br style=\"clear: both;\"/></p>\n",
    "<p> <br style=\"clear: both;\"/></p>\n",
    "<p> <br style=\"clear: both;\"/></p>"
   ]
  },
  {
   "cell_type": "markdown",
   "metadata": {},
   "source": [
    "This tutorial is prepared by ACM Student Chapter of King Abdullah University of Science and Technology (KAUST).\n",
    "What we'll study here has been adapted from the following tutorials:\n",
    "\n",
    "- David Ketcheson's [Introduction to NumPy and Matplotlib](http://nbviewer.ipython.org/github/ketch/AMCS252/blob/master/2_Introduction_to_Numpy%20and_Matplotlib.ipynb)</p>\n",
    "- Software Carpentry's [Numerical analysis with NumPy](http://nbviewer.ipython.org/github/geocarpentry/2014-01-30-mit/blob/gh-pages/lessons/vignettes/Numerical%20analysis%20with%20NumPy.ipynb)\n",
    "- J.R. Johansson's [Numpy - multidimensional data arrays](http://nbviewer.ipython.org/github/jrjohansson/scientific-python-lectures/blob/master/Lecture-2-Numpy.ipynb) and [SciPy - Library of scientific algorithms for Python](http://nbviewer.ipython.org/github/jrjohansson/scientific-python-lectures/blob/master/Lecture-3-Scipy.ipynb#SciPy---Library-of-scientific-algorithms-for-Python)\n",
    "- Official [Tentative NumPy tutorial](http://www.scipy.org/Tentative_NumPy_Tutorial)\n",
    "\n",
    "Current version is adapted from [KAUST Python Tutorials 2015](http://alshedivat.github.io/ACM-Python-Tutorials-KAUST-2015/) by Dmitry Kabanov.\n",
    "\n",
    "Presented on 26 February, 2017.\n",
    "\n",
    "**Prerequisites:** Introduction to Python, basic knowledge of numerical methods"
   ]
  },
  {
   "cell_type": "markdown",
   "metadata": {},
   "source": [
    "## NumPy"
   ]
  },
  {
   "cell_type": "markdown",
   "metadata": {},
   "source": [
    "Python includes a package for numerical computation called numpy, which is an essential tool for scientific computing. \n",
    "It is based on multidimensional arrays (vectors and matrices) and provides a large library of functions and operators that work efficiently on these objects.\n",
    "In this way, any numerical algorithm is expressed as operations on arrays and in many cases runs almost as quickly as the equivalent C code.\n",
    "\n",
    "`Numpy` serves as a foundation library that makes Python a competitor to MATLAB for scientific computing.\n",
    "\n",
    "`NumPy` is used in: \n",
    "Numerical Analysis, Linear algebra, Solution of differential equations, Statistical analysis and many more...\n"
   ]
  },
  {
   "cell_type": "markdown",
   "metadata": {},
   "source": [
    "### Why to use NumPy?\n",
    "\n",
    "Consider the following list and suppose we want to perform some simple algebraic operations:"
   ]
  },
  {
   "cell_type": "code",
   "execution_count": null,
   "metadata": {
    "collapsed": false
   },
   "outputs": [],
   "source": [
    "price = [5.99, 10.25, 2.0, 40.99, 5.60, 63.49]"
   ]
  },
  {
   "cell_type": "code",
   "execution_count": null,
   "metadata": {
    "collapsed": false
   },
   "outputs": [],
   "source": [
    "price*2"
   ]
  },
  {
   "cell_type": "code",
   "execution_count": null,
   "metadata": {
    "collapsed": false
   },
   "outputs": [],
   "source": [
    "price+0.5"
   ]
  },
  {
   "cell_type": "markdown",
   "metadata": {},
   "source": [
    "Clearly, if we wanted to double the value of each element and add half, this cannot be done easily. Instead, we would have to use a loop:"
   ]
  },
  {
   "cell_type": "code",
   "execution_count": null,
   "metadata": {
    "collapsed": false
   },
   "outputs": [],
   "source": [
    "for i in range(len(price)):\n",
    "    price[i] = price[i]*2\n",
    "    price[i] = price[i]+0.5\n",
    "print(price)"
   ]
  },
  {
   "cell_type": "markdown",
   "metadata": {},
   "source": [
    "However, it is slow (first) and requires too much code (second). It can be done more efficient using `NumPy`."
   ]
  },
  {
   "cell_type": "markdown",
   "metadata": {},
   "source": [
    "### Getting started\n",
    "\n",
    "We start, by importing the NumPy module. Import statements like this are the typical way of getting access to functions in Python. The most general way to import a module is the following:"
   ]
  },
  {
   "cell_type": "code",
   "execution_count": null,
   "metadata": {
    "collapsed": false
   },
   "outputs": [],
   "source": [
    "import numpy as np"
   ]
  },
  {
   "cell_type": "markdown",
   "metadata": {},
   "source": [
    "First example: compute $\\sin (3\\pi/2)$:"
   ]
  },
  {
   "cell_type": "code",
   "execution_count": null,
   "metadata": {
    "collapsed": false
   },
   "outputs": [],
   "source": [
    "np.sin(3*np.pi/2)"
   ]
  },
  {
   "cell_type": "markdown",
   "metadata": {},
   "source": [
    "Second example: compute $e + \\pi$:"
   ]
  },
  {
   "cell_type": "code",
   "execution_count": null,
   "metadata": {
    "collapsed": false
   },
   "outputs": [],
   "source": [
    "np.exp(1) + np.pi"
   ]
  },
  {
   "cell_type": "markdown",
   "metadata": {},
   "source": [
    "### Arrays"
   ]
  },
  {
   "cell_type": "markdown",
   "metadata": {},
   "source": [
    "In above examples we compute scalars.\n",
    "What makes NumPy brilliant is that it allows you make computations on multidimensional quantities (such as vectors and matrices) using thing called `ndarray` ($N$-dimensional array).\n",
    "Computer scientists call such a thing a *data structure*.\n",
    "We will consider only one-dimensional (vectors) and two-dimensional (matrices) arrays in this tutorial."
   ]
  },
  {
   "cell_type": "markdown",
   "metadata": {},
   "source": [
    "Let's create a 1D array $p$ as we did before and compute $2p + 0.5$:"
   ]
  },
  {
   "cell_type": "code",
   "execution_count": null,
   "metadata": {
    "collapsed": false
   },
   "outputs": [],
   "source": [
    "price = np.array([1, 2, 3, 4, 5])\n",
    "type(price)"
   ]
  },
  {
   "cell_type": "code",
   "execution_count": null,
   "metadata": {
    "collapsed": false
   },
   "outputs": [],
   "source": [
    "price = price*2+0.5\n",
    "price"
   ]
  },
  {
   "cell_type": "markdown",
   "metadata": {},
   "source": [
    "There are other ways to create one-dimensional arrays:"
   ]
  },
  {
   "cell_type": "markdown",
   "metadata": {},
   "source": [
    "Function `linspace` has three arguments: the value of the left point, the value of the right point and the number of points in total:"
   ]
  },
  {
   "cell_type": "code",
   "execution_count": null,
   "metadata": {
    "collapsed": false
   },
   "outputs": [],
   "source": [
    "x = np.linspace(0, 1, num=5)\n",
    "x"
   ]
  },
  {
   "cell_type": "markdown",
   "metadata": {},
   "source": [
    "Another function, `arange` is very similar but it takes a step between points as the third argument:"
   ]
  },
  {
   "cell_type": "code",
   "execution_count": null,
   "metadata": {
    "collapsed": false
   },
   "outputs": [],
   "source": [
    "y = np.arange(0, 1, 0.25)\n",
    "y"
   ]
  },
  {
   "cell_type": "markdown",
   "metadata": {},
   "source": [
    "Notice, that `arange` does not include the right point in the result!"
   ]
  },
  {
   "cell_type": "markdown",
   "metadata": {},
   "source": [
    "Other functions that can be used to create an array:"
   ]
  },
  {
   "cell_type": "code",
   "execution_count": null,
   "metadata": {
    "collapsed": false
   },
   "outputs": [],
   "source": [
    "x = np.zeros(5)\n",
    "y = np.ones(3)\n",
    "print(x, '\\n', y)"
   ]
  },
  {
   "cell_type": "markdown",
   "metadata": {},
   "source": [
    "Now let's compute $\\sin 2\\pi x$ and see its graph:"
   ]
  },
  {
   "cell_type": "code",
   "execution_count": null,
   "metadata": {
    "collapsed": false,
    "scrolled": true
   },
   "outputs": [],
   "source": [
    "x = np.linspace(0, 1, num=21)\n",
    "y = np.sin(2*np.pi*x)\n",
    "\n",
    "import matplotlib.pyplot as plt\n",
    "%matplotlib inline\n",
    "\n",
    "plt.figure()\n",
    "plt.plot(x, y, '-')"
   ]
  },
  {
   "cell_type": "markdown",
   "metadata": {},
   "source": [
    "---\n",
    "### Exercise 7\n",
    "\n",
    "Change the inputs of the *linspace* and *arange* function until you understand exactly what they do. Using both ways, create a vector of starting from -1.5 to 4.5 inclusive with a step of 0.5. "
   ]
  },
  {
   "cell_type": "code",
   "execution_count": null,
   "metadata": {
    "collapsed": false
   },
   "outputs": [],
   "source": [
    "# type your solution here"
   ]
  },
  {
   "cell_type": "markdown",
   "metadata": {},
   "source": [
    "##### Solution"
   ]
  },
  {
   "cell_type": "code",
   "execution_count": null,
   "metadata": {
    "collapsed": false
   },
   "outputs": [],
   "source": [
    "#%load solutions/1D_array.py"
   ]
  },
  {
   "cell_type": "markdown",
   "metadata": {},
   "source": [
    "We can always find out what a function does by typing its name, followed by a question mark:"
   ]
  },
  {
   "cell_type": "code",
   "execution_count": null,
   "metadata": {
    "collapsed": false
   },
   "outputs": [],
   "source": [
    "np.arange?"
   ]
  },
  {
   "cell_type": "markdown",
   "metadata": {},
   "source": [
    "Resize the help window (to get it out of your way) by dragging the divider. Double click on the divider to close it."
   ]
  },
  {
   "cell_type": "markdown",
   "metadata": {},
   "source": [
    "### Multidimensional arrays\n",
    "\n",
    "We can create multidimensional arrays, like the following:"
   ]
  },
  {
   "cell_type": "code",
   "execution_count": null,
   "metadata": {
    "collapsed": false
   },
   "outputs": [],
   "source": [
    "A = np.array([\n",
    "    [1, 2.4, -13],\n",
    "    [4.1, 5, 0],\n",
    "    [7.2, 8, 9]\n",
    "])\n",
    "print(\"A = \\n\", A)\n",
    "print(A.shape)"
   ]
  },
  {
   "cell_type": "markdown",
   "metadata": {},
   "source": [
    "To see all different attributes of the array object type its name followed by a fullstop and press *tap*. Note that some attributes are basically functions and require parentheses (with or without arguments), e.g. *transpose* and others don't, e.g. *ndim*:"
   ]
  },
  {
   "cell_type": "code",
   "execution_count": null,
   "metadata": {
    "collapsed": false
   },
   "outputs": [],
   "source": [
    "print(A.transpose())\n",
    "print(A.ndim)"
   ]
  },
  {
   "cell_type": "markdown",
   "metadata": {},
   "source": [
    "We can also define the shape of the array:"
   ]
  },
  {
   "cell_type": "code",
   "execution_count": null,
   "metadata": {
    "collapsed": false
   },
   "outputs": [],
   "source": [
    "np.random.uniform(0, 1, size=(5,5)) # 5 x 5 matrix with elements from a uniform distribution"
   ]
  },
  {
   "cell_type": "markdown",
   "metadata": {},
   "source": [
    "#### Other ways to create matrices\n",
    "\n",
    "We can use functions `zeros` and `ones` (that we used before) to create matrices.\n",
    "Also we can use function `eye` to create an identity matrix and function `diag` to create a diagonal matrix:"
   ]
  },
  {
   "cell_type": "code",
   "execution_count": null,
   "metadata": {
    "collapsed": false
   },
   "outputs": [],
   "source": [
    "print(np.zeros((3,4)))\n",
    "print('\\n')\n",
    "print(np.ones((2,3)))\n",
    "print('\\n')\n",
    "print(np.eye(3))\n",
    "print('\\n')\n",
    "print(np.diag([1, 2, 3]))"
   ]
  },
  {
   "cell_type": "markdown",
   "metadata": {},
   "source": [
    "Notice how many parentheses we should use: to construct zero matrix of size $2\\times3$, we should pass the size as a *tuple*: `(2,`&nbsp;`3)`."
   ]
  },
  {
   "cell_type": "markdown",
   "metadata": {},
   "source": [
    "### Indexing and Slicing\n",
    "\n",
    "To index an element in an array, we use brackets `[]`:"
   ]
  },
  {
   "cell_type": "code",
   "execution_count": null,
   "metadata": {
    "collapsed": false
   },
   "outputs": [],
   "source": [
    "x = np.array([1, 1, 2, 3, 5, 8, 13])\n",
    "x[4]"
   ]
  },
  {
   "cell_type": "markdown",
   "metadata": {},
   "source": [
    "And with matrices we put comma between the index of a row and a column:"
   ]
  },
  {
   "cell_type": "code",
   "execution_count": null,
   "metadata": {
    "collapsed": false
   },
   "outputs": [],
   "source": [
    "A = np.array([\n",
    "    [1, 2, 3],\n",
    "    [4, 5, 6],\n",
    "    [7, 8, 9]\n",
    "])\n",
    "print(A)\n",
    "print(A[0, 0])\n",
    "print(A[-1, 1])"
   ]
  },
  {
   "cell_type": "markdown",
   "metadata": {},
   "source": [
    "Notice, how the negative indices are used to index from the end instead of the beginning."
   ]
  },
  {
   "cell_type": "markdown",
   "metadata": {},
   "source": [
    "We can index several elements simultaneously: this is called *slicing*."
   ]
  },
  {
   "cell_type": "code",
   "execution_count": null,
   "metadata": {
    "collapsed": false
   },
   "outputs": [],
   "source": [
    "print(A)"
   ]
  },
  {
   "cell_type": "code",
   "execution_count": null,
   "metadata": {
    "collapsed": false
   },
   "outputs": [],
   "source": [
    "A[0, 0:2]"
   ]
  },
  {
   "cell_type": "markdown",
   "metadata": {},
   "source": [
    "Note that the fundamental difference from MATLAB is that the indexing starts from zero and is exclusive of the second index. Hence, in the above example 1:3 refers to the second and third row and 0:2 to the first and second column."
   ]
  },
  {
   "cell_type": "markdown",
   "metadata": {},
   "source": [
    "We can index in some clever ways too:  "
   ]
  },
  {
   "cell_type": "code",
   "execution_count": null,
   "metadata": {
    "collapsed": false
   },
   "outputs": [],
   "source": [
    "print(A[0, :]) # row selection\n",
    "print(A[:, 2]) # column selection"
   ]
  },
  {
   "cell_type": "code",
   "execution_count": null,
   "metadata": {
    "collapsed": false
   },
   "outputs": [],
   "source": [
    "print(A[:, 1:]) # all rows, from 2nd column until the end\n",
    "print(A[-1, :]) # last row, all columns"
   ]
  },
  {
   "cell_type": "markdown",
   "metadata": {},
   "source": [
    "We can change array's elements:"
   ]
  },
  {
   "cell_type": "code",
   "execution_count": null,
   "metadata": {
    "collapsed": false
   },
   "outputs": [],
   "source": [
    "print(A)\n",
    "print()\n",
    "A[:, 2] = [23, 26, 29]\n",
    "print(A)"
   ]
  },
  {
   "cell_type": "markdown",
   "metadata": {},
   "source": [
    "There is an easy way to reverse a vector:"
   ]
  },
  {
   "cell_type": "code",
   "execution_count": null,
   "metadata": {
    "collapsed": false
   },
   "outputs": [],
   "source": [
    "a = np.arange(0, 10)\n",
    "print(a)\n",
    "print(a[: :-1]) # reverse a"
   ]
  },
  {
   "cell_type": "markdown",
   "metadata": {},
   "source": [
    "We can also index an array using boolean arrays:"
   ]
  },
  {
   "cell_type": "code",
   "execution_count": null,
   "metadata": {
    "collapsed": false
   },
   "outputs": [],
   "source": [
    "b = a > 5\n",
    "print(b)\n",
    "a[b] = 0  # All elements of 'a' higher than 5 become 0\n",
    "print(a)"
   ]
  },
  {
   "cell_type": "markdown",
   "metadata": {},
   "source": [
    "### Follow-the-instructor example: computing derivatives numerically"
   ]
  },
  {
   "cell_type": "markdown",
   "metadata": {},
   "source": [
    "Now we will use the knowledge we obtained to compute a first derivative to $\\sin 2\\pi x$ numerically."
   ]
  },
  {
   "cell_type": "markdown",
   "metadata": {},
   "source": [
    "We will use the finite-difference formula of the second order of accuracy:\n",
    "\n",
    "$$ y'(x_i) \\approx \\frac{y_{i+1} - y_{i-1}}{2\\Delta x} $$\n",
    "\n",
    "with formulas of the first order of accuracy at endpoints:\n",
    "\n",
    "$$ y'(x_0) \\approx \\frac{y_1 - y_0}{\\Delta x}, \\quad\n",
    "y'(x_N) \\approx \\frac{y_N - y_{N-1}}{\\Delta x} $$"
   ]
  },
  {
   "cell_type": "code",
   "execution_count": null,
   "metadata": {
    "collapsed": false
   },
   "outputs": [],
   "source": [
    "#follow the instructor"
   ]
  },
  {
   "cell_type": "code",
   "execution_count": null,
   "metadata": {
    "collapsed": false
   },
   "outputs": [],
   "source": []
  },
  {
   "cell_type": "markdown",
   "metadata": {},
   "source": [
    "### Other basic operations"
   ]
  },
  {
   "cell_type": "markdown",
   "metadata": {},
   "source": [
    "We can use array functions `min` or `max` to find minimum or maximum element in the array:"
   ]
  },
  {
   "cell_type": "code",
   "execution_count": null,
   "metadata": {
    "collapsed": false
   },
   "outputs": [],
   "source": [
    "x = np.array([np.pi, 1, 27, 34.0, 5, 44, 15])"
   ]
  },
  {
   "cell_type": "code",
   "execution_count": null,
   "metadata": {
    "collapsed": false
   },
   "outputs": [],
   "source": [
    "print(x.min())\n",
    "print(x.max())"
   ]
  },
  {
   "cell_type": "code",
   "execution_count": null,
   "metadata": {
    "collapsed": false
   },
   "outputs": [],
   "source": [
    "print(A.sum(axis=0))     # sum of each column\n",
    "print(A.min(axis=1))     # min of each row\n",
    "print(A.cumsum(axis=1))  # cumulative sum along each row"
   ]
  },
  {
   "cell_type": "markdown",
   "metadata": {},
   "source": [
    "In Python *axis* refers to the dimensions of arrays; *axis=0* refers to the colums and *axis=1* to the rows."
   ]
  },
  {
   "cell_type": "markdown",
   "metadata": {},
   "source": [
    "---\n",
    "### Exercise 8\n",
    "\n",
    "1. Create a vector with values ranging from 10 to 99\n",
    "2. Find indices of non-zero elements from [1,2,0,0,4,0]. Hint: use <em>np.nonzero</em>\n",
    "3. Declare a 8x8 zero matrix and set all the elements in the first column to value 3.\n",
    "4. Create a 4x4 array with numbers from a normal distribution with mean = 3 and standard deviation = 1.5. Hint: use <em>np.random.normal</em>. Sum the values of each row and store the result in a new array."
   ]
  },
  {
   "cell_type": "code",
   "execution_count": null,
   "metadata": {
    "collapsed": false
   },
   "outputs": [],
   "source": [
    "# type your solution here"
   ]
  },
  {
   "cell_type": "markdown",
   "metadata": {},
   "source": [
    "##### Solution"
   ]
  },
  {
   "cell_type": "code",
   "execution_count": null,
   "metadata": {
    "collapsed": false
   },
   "outputs": [],
   "source": [
    "#%load solutions/array_operations.py"
   ]
  },
  {
   "cell_type": "markdown",
   "metadata": {},
   "source": [
    "Now let's work with some real data. Ensure that the <em>stockholm_temp.txt</em> in the same directory with this notebook. \n",
    "This file contains the [daily average temperatures](http://bolin.su.se/data/stockholm/homogenized_daily_mean_temperatures.php)\n",
    "according to observations of Stockholm for the years 1756 - 2012.\n",
    "The following code checks if the file exists, opens it, prints the first lines and stores the data in an array."
   ]
  },
  {
   "cell_type": "code",
   "execution_count": null,
   "metadata": {
    "collapsed": false
   },
   "outputs": [],
   "source": [
    "filename = 'data/stockholm_temp.txt'\n",
    "data = np.loadtxt(filename) # alternative we can use getfromtxt command\n",
    "    \n",
    "# Print first three lines of data.\n",
    "print(data[0:3, :])"
   ]
  },
  {
   "cell_type": "markdown",
   "metadata": {},
   "source": [
    "Since the data are in the form\n",
    "\n",
    "- Year\n",
    "- Month\n",
    "- Day\n",
    "- Temperature\n",
    "\n",
    "we would like to express them in a better way. We define a `dtype`, that is the data type for each column: int, int, int, float:"
   ]
  },
  {
   "cell_type": "code",
   "execution_count": null,
   "metadata": {
    "collapsed": false
   },
   "outputs": [],
   "source": [
    "dt = np.dtype([('Year', 'int16'), ('Month', 'int8'), ('Day', 'int8'), ('Temp', 'float64')])\n",
    "data = np.loadtxt(filename, dtype=dt)\n",
    "data[:10] # first 10 entries of our data"
   ]
  },
  {
   "cell_type": "markdown",
   "metadata": {},
   "source": [
    "We can now look for the example only on the temperatures:"
   ]
  },
  {
   "cell_type": "code",
   "execution_count": null,
   "metadata": {
    "collapsed": false
   },
   "outputs": [],
   "source": [
    "data['Temp']"
   ]
  },
  {
   "cell_type": "markdown",
   "metadata": {},
   "source": [
    "and plot temperature in July 2012:"
   ]
  },
  {
   "cell_type": "code",
   "execution_count": null,
   "metadata": {
    "collapsed": false
   },
   "outputs": [],
   "source": [
    "years = data['Year']\n",
    "temp = data['Temp']\n",
    "\n",
    "\n",
    "plot_data = data[(data['Year'] == 2012) & (data['Month'] == 7)]\n",
    "\n",
    "plt.figure()\n",
    "plt.plot(plot_data['Day'], plot_data['Temp'], '-')\n",
    "plot_data"
   ]
  },
  {
   "cell_type": "markdown",
   "metadata": {},
   "source": [
    "---\n",
    "### Exercise 9\n",
    "\n",
    "Make an array with the temperatures of the 5th day of every month in 2000."
   ]
  },
  {
   "cell_type": "code",
   "execution_count": null,
   "metadata": {
    "collapsed": false
   },
   "outputs": [],
   "source": [
    "# type your solution here"
   ]
  },
  {
   "cell_type": "markdown",
   "metadata": {},
   "source": [
    "##### Solution"
   ]
  },
  {
   "cell_type": "code",
   "execution_count": null,
   "metadata": {
    "collapsed": false
   },
   "outputs": [],
   "source": [
    "#%load solutions/temperatures.py"
   ]
  },
  {
   "cell_type": "markdown",
   "metadata": {},
   "source": [
    "### Linear algebra\n",
    "\n",
    "Handling *ndarrays* is really powerful. Of the many things one can do with NumPy's arrays is linear algebra:  "
   ]
  },
  {
   "cell_type": "code",
   "execution_count": null,
   "metadata": {
    "collapsed": false
   },
   "outputs": [],
   "source": [
    "x = np.random.random(10)\n",
    "print x"
   ]
  },
  {
   "cell_type": "markdown",
   "metadata": {},
   "source": [
    "We can find $L_\\infty$-norm of this vector:"
   ]
  },
  {
   "cell_type": "code",
   "execution_count": null,
   "metadata": {
    "collapsed": true
   },
   "outputs": [],
   "source": [
    "np.linalg.norm(x, np.inf) # maximum norm of a vector"
   ]
  },
  {
   "cell_type": "markdown",
   "metadata": {},
   "source": [
    "We can use this module to solve a linear system of equations\n",
    "\n",
    "$$\n",
    "\\begin{align}\n",
    "x + 2y &= 12, \\\\\n",
    "3x + 4y &= 29\n",
    "\\end{align}\n",
    "$$"
   ]
  },
  {
   "cell_type": "code",
   "execution_count": null,
   "metadata": {
    "collapsed": false
   },
   "outputs": [],
   "source": [
    "A = np.array([[1, 2],[3, 4]])\n",
    "b = np.array([12, 29])\n",
    "print(A)\n",
    "print(b)"
   ]
  },
  {
   "cell_type": "code",
   "execution_count": null,
   "metadata": {
    "collapsed": false
   },
   "outputs": [],
   "source": [
    "print(np.linalg.cond(A))\n",
    "x = np.linalg.solve(A,b)\n",
    "print(x)"
   ]
  },
  {
   "cell_type": "markdown",
   "metadata": {},
   "source": [
    "To check that the solution is correct (that is, that $x$ that we computed satisfies $Ax = b$), we do matrix-vector multiplication. For that, function `dot` should be used:"
   ]
  },
  {
   "cell_type": "code",
   "execution_count": null,
   "metadata": {
    "collapsed": false
   },
   "outputs": [],
   "source": [
    "np.dot(A, x)"
   ]
  },
  {
   "cell_type": "markdown",
   "metadata": {},
   "source": [
    "and inner products of two vectors are computed with the same function:"
   ]
  },
  {
   "cell_type": "code",
   "execution_count": null,
   "metadata": {
    "collapsed": true
   },
   "outputs": [],
   "source": [
    "x = np.array([1, 2])\n",
    "y = np.array([3, 4])\n",
    "np.dot(x, y)"
   ]
  },
  {
   "cell_type": "markdown",
   "metadata": {},
   "source": [
    "We can also solve eigenvalue problems using function `linalg.eig`:"
   ]
  },
  {
   "cell_type": "code",
   "execution_count": null,
   "metadata": {
    "collapsed": false
   },
   "outputs": [],
   "source": [
    "lamda, V = np.linalg.eig(A)\n",
    "print(lamda)\n",
    "print(V)"
   ]
  },
  {
   "cell_type": "markdown",
   "metadata": {},
   "source": [
    "---\n",
    "### Exercise 10\n",
    "\n",
    "Create a diagonal matrix using the *lamda* variable and then multiply from the left with V and from the right with the inverse of V (use *np.linalg.inv()*). What do you find?"
   ]
  },
  {
   "cell_type": "code",
   "execution_count": null,
   "metadata": {
    "collapsed": false
   },
   "outputs": [],
   "source": [
    "# type your solution here"
   ]
  },
  {
   "cell_type": "markdown",
   "metadata": {},
   "source": [
    "##### Solution"
   ]
  },
  {
   "cell_type": "code",
   "execution_count": null,
   "metadata": {
    "collapsed": false
   },
   "outputs": [],
   "source": [
    "#%load solutions/linear_algebra.py"
   ]
  },
  {
   "cell_type": "markdown",
   "metadata": {},
   "source": [
    "<p></br></p>\n",
    "<p></br></p>\n",
    "<p></br></p>"
   ]
  },
  {
   "cell_type": "markdown",
   "metadata": {},
   "source": [
    "## SciPy"
   ]
  },
  {
   "cell_type": "markdown",
   "metadata": {},
   "source": [
    "`NumPy` is complemented by `SciPy`; a library that adds more MATLAB-like features to Python.\n",
    "\n",
    "`SciPy` consists of several subpackages that can be used for linear algebra, image and signal processing, statistics, numerical integration of differential equations and more.\n",
    "\n",
    "Here we'll study only a couple of subpackages to get the idea of how useful `SciPy` is."
   ]
  },
  {
   "cell_type": "markdown",
   "metadata": {},
   "source": [
    "### Getting started\n"
   ]
  },
  {
   "cell_type": "markdown",
   "metadata": {},
   "source": [
    "It is customary to import subpackages of `SciPy` in the following manner:"
   ]
  },
  {
   "cell_type": "markdown",
   "metadata": {},
   "source": [
    "### Integration\n",
    "\n",
    "Subpackage `scipy.integrate` contains functions to compute quadratures and to solve ordinary differential equations.\n",
    "\n",
    "The numerical evaluation of the definite integral of a function is called numerical quadrature, or simply quadature. \n",
    "SciPy provides a series of functions for different kind of quadrature, for example the quad, dblquad and tplquad for single, double and triple integrals, respectively.\n",
    "\n",
    "Let's compute the Gauss integral numerically:\n",
    "\n",
    "$$ \\int_{-\\infty}^{+\\infty} \\exp(-x^2) \\, dx = \\sqrt \\pi $$"
   ]
  },
  {
   "cell_type": "code",
   "execution_count": null,
   "metadata": {
    "collapsed": false
   },
   "outputs": [],
   "source": [
    "from scipy import integrate"
   ]
  },
  {
   "cell_type": "code",
   "execution_count": null,
   "metadata": {
    "collapsed": false
   },
   "outputs": [],
   "source": [
    "xl = -1000  # the lower limit of x\n",
    "xu = +1000  # the upper limit of x\n",
    "\n",
    "def f(x):\n",
    "    return np.exp(-x**2)\n",
    "\n",
    "val, abserr = integrate.quad(f, xl, xu)\n",
    "\n",
    "print(\"integral value =\", val, \", absolute error =\", abserr, 'analytic value = ', np.sqrt(np.pi))"
   ]
  },
  {
   "cell_type": "markdown",
   "metadata": {},
   "source": [
    "We can pass extra arguments to integrand function, by using the `args` keyword argument.\n",
    "For example we can use `args=(3,)` for the third order Bessel function."
   ]
  },
  {
   "cell_type": "markdown",
   "metadata": {},
   "source": [
    "---\n",
    "### Exercise 11\n",
    "\n",
    "Compute the integral\n",
    "\n",
    "$$ \\int_{-1}^{1} x \\, dx $$\n",
    "\n",
    "and compare with the analytic value."
   ]
  },
  {
   "cell_type": "code",
   "execution_count": null,
   "metadata": {
    "collapsed": false
   },
   "outputs": [],
   "source": [
    "# type your solution here"
   ]
  },
  {
   "cell_type": "markdown",
   "metadata": {},
   "source": [
    "##### Solution"
   ]
  },
  {
   "cell_type": "code",
   "execution_count": null,
   "metadata": {
    "collapsed": false
   },
   "outputs": [],
   "source": [
    "#%load solutions/bessel_integral.py"
   ]
  },
  {
   "cell_type": "code",
   "execution_count": null,
   "metadata": {
    "collapsed": true
   },
   "outputs": [],
   "source": [
    "### Example of integration of system of ordinary differential equations"
   ]
  },
  {
   "cell_type": "markdown",
   "metadata": {},
   "source": [
    "We will have a look at the Lotka-Volterra model, also known as the predator-prey equations,\n",
    "which is a pair of first order, non-linear, differential equations frequently used to describe\n",
    "the dynamics of biological systems in which two species interact, one a predator and the other its prey.\n",
    "The model was proposed independently by Alfred J. Lotka in 1925 and Vito Volterra in 1926,\n",
    "and can be described by\n",
    "\n",
    "$$\n",
    "\\begin{align}\n",
    "\\frac{du}{dt} &= \\phantom{-}au - \\phantom{d}buv, \\\\\n",
    "\\frac{dv}{dt} &= -cv + dbuv, \\\\\n",
    "\\end{align}\n",
    "$$\n",
    "where\n",
    "*  $u(t)$: number of preys (for example, rabbits)\n",
    "\n",
    "*  $v(t)$: number of predators (for example, foxes)\n",
    "\n",
    "*  $a$, $b$, $c$, $d$ are constant parameters defining the behavior of the population:\n",
    "\n",
    "  + $a$ is the natural growing rate of rabbits, when there's no fox\n",
    "\n",
    "  + $b$ is the natural dying rate of rabbits, due to predation\n",
    "\n",
    "  + $c$ is the natural dying rate of fox, when there's no rabbit\n",
    "\n",
    "  + $d$ is the factor describing how many caught rabbits let create a new fox"
   ]
  },
  {
   "cell_type": "code",
   "execution_count": null,
   "metadata": {
    "collapsed": false
   },
   "outputs": [],
   "source": [
    "a = 1.0\n",
    "b = 0.1\n",
    "c = 1.5\n",
    "d = 0.75\n",
    "\n",
    "def dy_dt(t, y):\n",
    "    \"\"\"Compute right-hand side of Lotka--Volterra system.\"\"\"\n",
    "    u, v = y[0], y[1]\n",
    "    return np.array([\n",
    "         a*u -   b*u*v,\n",
    "        -c*v + d*b*u*v\n",
    "    ])\n",
    "\n",
    "# Initial value.\n",
    "y0 = [10, 5]\n",
    "t0 = 0.0\n",
    "dt = 0.1\n",
    "tfinal = 10\n",
    "\n",
    "# Two lists that will hold the solution.\n",
    "times = np.linspace(0, tfinal, num=101)\n",
    "u = [y0[0]]\n",
    "v = [y0[1]]\n",
    "\n",
    "s = integrate.ode(dy_dt)\n",
    "s.set_integrator('dopri5')\n",
    "s.set_initial_value(y0, t0)\n",
    "\n",
    "for t in times[1:]:\n",
    "    s.integrate(t)\n",
    "    u.append(s.y[0])\n",
    "    v.append(s.y[1])\n",
    "    \n",
    "plt.figure()\n",
    "plt.plot(times, u, '-', label='Rabbits')\n",
    "plt.plot(times, v, '--', label='Foxes')\n",
    "plt.legend(loc='best');"
   ]
  },
  {
   "cell_type": "markdown",
   "metadata": {},
   "source": [
    "### Interpolation"
   ]
  },
  {
   "cell_type": "markdown",
   "metadata": {},
   "source": [
    "The `interpolate.interp1d` function accepts array of points $(X, Y)$ and returns a new function that can find interpolated values from this array.\n",
    "You can use an options for interpoland kinds such as linear, quadratic and cubic spline interpolation."
   ]
  },
  {
   "cell_type": "code",
   "execution_count": null,
   "metadata": {
    "collapsed": false
   },
   "outputs": [],
   "source": [
    "from scipy import interpolate"
   ]
  },
  {
   "cell_type": "code",
   "execution_count": null,
   "metadata": {
    "collapsed": false
   },
   "outputs": [],
   "source": [
    "x = np.linspace(0, 1, num=11)\n",
    "y = np.sin(2 * np.pi * x)\n",
    "\n",
    "f1 = interpolate.interp1d(x, y) # linear interpolation\n",
    "f3 = interpolate.interp1d(x, y, kind='cubic')"
   ]
  },
  {
   "cell_type": "code",
   "execution_count": null,
   "metadata": {
    "collapsed": false,
    "scrolled": true
   },
   "outputs": [],
   "source": [
    "# new points where we want to evaluate the interpoland\n",
    "xnew = np.linspace(0, 1, num=101)\n",
    "\n",
    "plt.figure(figsize=(12,4))\n",
    "plt.plot(x, y,'o', label='Given')\n",
    "plt.plot(xnew, f1(xnew), '-', label='linear')\n",
    "plt.plot(xnew, f3(xnew), '--', label='cubic')\n",
    "plt.legend(loc='best');"
   ]
  },
  {
   "cell_type": "markdown",
   "metadata": {},
   "source": [
    "## Fast Fourier Transform"
   ]
  },
  {
   "cell_type": "markdown",
   "metadata": {},
   "source": [
    "When you need to study the spectrum of a signal (function of time), you can use Fourier Transform for this.\n",
    "The implementation of the Fourier transform, known as Fast Fourier Transform, can be used with the help of subpackage `scipy.fftpack`.\n",
    "\n",
    "Let's apply Fast Fourier Transform to the signal:\n",
    "\n",
    "$$ y(t) = \\sin 2\\pi f t + \\text{normal noise},$$\n",
    "\n",
    "where $f = 4$.\n",
    "\n",
    "Suppose, that the signal is sampled with sampling rate 50 times per unit time (time step is 0.02).\n",
    "Hence, we can compute the spectrum with upper bound of frequency being 25."
   ]
  },
  {
   "cell_type": "code",
   "execution_count": null,
   "metadata": {
    "collapsed": true
   },
   "outputs": [],
   "source": [
    "from scipy import fftpack"
   ]
  },
  {
   "cell_type": "code",
   "execution_count": null,
   "metadata": {
    "collapsed": false
   },
   "outputs": [],
   "source": [
    "f0 = 4\n",
    "timestep = 0.02\n",
    "tfinal = 10.0\n",
    "\n",
    "# Create the oscillator\n",
    "time = np.arange(0, tfinal, timestep)\n",
    "y = np.sin(2*np.pi*f0 * time)\n",
    "y = y + np.random.normal(size=len(y))\n",
    "\n",
    "# Use an FFT to calculate its spectrum\n",
    "yhat = fftpack.rfft(y)\n",
    "\n",
    "# Find the positive frequencies\n",
    "frequency = fftpack.rfftfreq(y.size, d=timestep)\n",
    "spectrum = 2*timestep*np.abs(yhat)\n",
    "\n",
    "# Create a figure\n",
    "fig, (ax1, ax2) = plt.subplots(2, 1)\n",
    "\n",
    "# Create x-y plots of the amplitude and transform with labeled axes\n",
    "\n",
    "ax1.set_xlabel('Time')\n",
    "ax1.set_ylabel('Signal')\n",
    "ax1.plot(time, y)\n",
    "\n",
    "ax2.set_xlabel('Frequency')\n",
    "ax2.set_ylabel('Power spectrum')\n",
    "ax2.plot(frequency, spectrum, '-')\n",
    "\n",
    "fig.tight_layout(pad=0.1)"
   ]
  },
  {
   "cell_type": "markdown",
   "metadata": {},
   "source": [
    "## Sparse matrices\n",
    "\n",
    "Sparse matrices are often useful in numerical analysis dealing with large systems.\n",
    "Whenever the problem involves vectors or matrices with mostly zero values then one should take advantage of the sparsity.\n",
    "SciPy has an extensive library for sparse matrices, with basic linear algebra operations (such as equation solving, eigenvalue calculations, etc)."
   ]
  },
  {
   "cell_type": "markdown",
   "metadata": {},
   "source": [
    "To create a sparse matrix we have to choose the format that will be stored in:"
   ]
  },
  {
   "cell_type": "code",
   "execution_count": null,
   "metadata": {
    "collapsed": false
   },
   "outputs": [],
   "source": [
    "from scipy import sparse"
   ]
  },
  {
   "cell_type": "code",
   "execution_count": null,
   "metadata": {
    "collapsed": false
   },
   "outputs": [],
   "source": [
    "# dense matrix\n",
    "M = np.array([[10,0,0,0], [0,.3,0,0], [0,2,1.5,0], [-3,0,0,100]])\n",
    "M"
   ]
  },
  {
   "cell_type": "code",
   "execution_count": null,
   "metadata": {
    "collapsed": false
   },
   "outputs": [],
   "source": [
    "# convert from dense to sparse\n",
    "M_sparse = sparse.csr_matrix(M); # or csc_matrix(M)\n",
    "M_sparse "
   ]
  },
  {
   "cell_type": "markdown",
   "metadata": {},
   "source": [
    "We can go back to the dense form:"
   ]
  },
  {
   "cell_type": "code",
   "execution_count": null,
   "metadata": {
    "collapsed": false
   },
   "outputs": [],
   "source": [
    "print(M_sparse)\n",
    "print(M_sparse.todense())"
   ]
  },
  {
   "cell_type": "markdown",
   "metadata": {},
   "source": [
    "The easiest way to create a sparse matrix is to use the `lil_matrix` function.\n",
    "It creates an empty matrix and then we allocating non-zero entries by using matrix indexing.\n",
    "This way we avoid creating large dense matrices."
   ]
  },
  {
   "cell_type": "code",
   "execution_count": null,
   "metadata": {
    "collapsed": false
   },
   "outputs": [],
   "source": [
    "A = sparse.lil_matrix((4,4)) # empty 4x4 sparse matrix\n",
    "A[0,0] = 1\n",
    "A[1,1] = 3\n",
    "A[2,2] = A[2,1] = 1\n",
    "A[3,3] = A[3,0] = 1\n",
    "A"
   ]
  },
  {
   "cell_type": "markdown",
   "metadata": {},
   "source": [
    "We can also change the format based on the sparsity:"
   ]
  },
  {
   "cell_type": "code",
   "execution_count": null,
   "metadata": {
    "collapsed": false
   },
   "outputs": [],
   "source": [
    "A = sparse.csr_matrix(A); A # if the rows are sparse"
   ]
  },
  {
   "cell_type": "code",
   "execution_count": null,
   "metadata": {
    "collapsed": false
   },
   "outputs": [],
   "source": [
    "A = sparse.csc_matrix(A); A # if the columns are sparse"
   ]
  },
  {
   "cell_type": "markdown",
   "metadata": {},
   "source": [
    "---\n",
    "### Exercise 12\n",
    "\n",
    "Construct a $10000 \\times 10000$ `lil_matrix` $A$ and add values to it by setting all rows and columns $2000$ to $3000$ into random values. Also set random diagonal entries (you can do this without a loop!). Then use the `spy` function from `matplotlib.pyplot` to \"spy\" the matrix.\n",
    "\n",
    "Using a vector $b$ with $10000$ random values solve the system $A x = b$. \n",
    "To do so use the direcet solver `linsolve` from `scipy.sparse.linalg.dsolve`.\n",
    "Change to different sparse formats (CSR and CSC) and measure the time needed to solve the system. You can use the `time` package."
   ]
  },
  {
   "cell_type": "code",
   "execution_count": null,
   "metadata": {
    "collapsed": false
   },
   "outputs": [],
   "source": [
    "# type your solution here"
   ]
  },
  {
   "cell_type": "markdown",
   "metadata": {},
   "source": [
    "##### Solution"
   ]
  },
  {
   "cell_type": "code",
   "execution_count": null,
   "metadata": {
    "collapsed": false
   },
   "outputs": [],
   "source": [
    "#%load solutions/sparse_matrices.py"
   ]
  },
  {
   "cell_type": "markdown",
   "metadata": {},
   "source": [
    "## References:\n",
    "\n",
    "#### NumPy:\n",
    "\n",
    "- [NumPy tutorial](http://www.scipy.org/Tentative_NumPy_Tutorial) \n",
    "- [NumPy tutorial video](http://showmedo.com/videotutorials/series?name=i9KuJuNcG) \n",
    "- [NumPy: lock 'n load](http://mentat.za.net/numpy/intro/intro.html)\n",
    "- [NumPy for Matlab users](http://www.scipy.org/NumPy_for_Matlab_Users)\n",
    "\n",
    "\n",
    "#### SciPy\n",
    "- [SciPy getting started](http://www.scipy.org/getting-started.html)\n",
    "- [SciPy tutorial](https://docs.scipy.org/doc/scipy-0.14.0/reference/tutorial/index.html)\n",
    "\n",
    "#### More general\n",
    "\n",
    "- [General Python tutorial](http://docs.python.org/tutorial/)\n",
    "- [Dive Into Python](http://diveintopython.org/)\n",
    "- [Hans Petter Langtangen book 1 (short)](https://link.springer.com/book/10.1007/978-3-319-32428-9)\n",
    "- [Hans Petter Langtangen book 2 (long)](http://link.springer.com/book/10.1007/978-3-662-49887-3)"
   ]
  },
  {
   "cell_type": "markdown",
   "metadata": {},
   "source": [
    "### Other packages\n",
    "Besides NumPy and Scipy, there are many other useful Python packages for scientific computing. Here is a short list:  \n",
    "\n",
    "- [matplotlib](http://www.matplotlib.org/) - plotting and visualization\n",
    "- [sympy](http://sympy.org/) - symbolic computation\n",
    "- [mpi4py](http://mpi4py.scipy.org/) - parallel computing\n",
    "- [petsc4py](http://code.google.com/p/petsc4py/), [pytrilinos](http://trilinos.sandia.gov/packages/pytrilinos/) - Python bindings for the \"big 2\" parallel scientific libraries\n",
    "- [pyCUDA](http://mathema.tician.de/software/pycuda), [pyOpenCL](http://mathema.tician.de/software/pyopencl) - GPGPU computing\n",
    "- [FENiCS](http://fenicsproject.org/), [FiPy](http://www.ctcms.nist.gov/fipy/), [PyClaw](http://numerics.kaust.edu.sa/pyclaw/) - solve complicated PDEs with very sophisticated numerical methods\n",
    "- [networkX](http://networkx.github.com/), [pygraphviz](http://networkx.lanl.gov/pygraphviz/) - graphs"
   ]
  },
  {
   "cell_type": "markdown",
   "metadata": {},
   "source": [
    " "
   ]
  },
  {
   "cell_type": "markdown",
   "metadata": {},
   "source": [
    " "
   ]
  },
  {
   "cell_type": "markdown",
   "metadata": {},
   "source": [
    "*Copyright 2017, ACM Student Chapter of King Abdullah University of Science and Technology*"
   ]
  },
  {
   "cell_type": "code",
   "execution_count": null,
   "metadata": {
    "collapsed": true
   },
   "outputs": [],
   "source": []
  }
 ],
 "metadata": {
  "anaconda-cloud": {},
  "kernelspec": {
   "display_name": "Python 3",
   "language": "python",
   "name": "python3"
  },
  "language_info": {
   "codemirror_mode": {
    "name": "ipython",
    "version": 3
   },
   "file_extension": ".py",
   "mimetype": "text/x-python",
   "name": "python",
   "nbconvert_exporter": "python",
   "pygments_lexer": "ipython3",
   "version": "3.6.0"
  }
 },
 "nbformat": 4,
 "nbformat_minor": 0
}
