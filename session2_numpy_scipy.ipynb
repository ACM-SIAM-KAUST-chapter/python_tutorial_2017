{
 "cells": [
  {
   "cell_type": "code",
   "execution_count": 1,
   "metadata": {
    "collapsed": false
   },
   "outputs": [
    {
     "data": {
      "text/html": [
       "<link href='http://fonts.googleapis.com/css?family=Alegreya+Sans:100,300,400,500,700,800,900,100italic,300italic,400italic,500italic,700italic,800italic,900italic' rel='stylesheet' type='text/css'>\n",
       "<link href='http://fonts.googleapis.com/css?family=Arvo:400,700,400italic' rel='stylesheet' type='text/css'>\n",
       "<link href='http://fonts.googleapis.com/css?family=PT+Mono' rel='stylesheet' type='text/css'>\n",
       "<link href='http://fonts.googleapis.com/css?family=Philosopher:400,700,400italic,700italic' rel='stylesheet' type='text/css'>\n",
       "\n",
       "<style>\n",
       "\n",
       ".container {\n",
       "    width: 95% !important;\n",
       "}\n",
       "\n",
       "#notebook_panel { /* main background */\n",
       "    background: #888;\n",
       "    color: #f6f6f6;\n",
       "}\n",
       "\n",
       "div.cell { /* set cell width to about 80 chars */\n",
       "    width: 1275px;\n",
       "}\n",
       "\n",
       "div #notebook { /* centre the content */\n",
       "    background: #fff; /* white background for content */\n",
       "    width: 1400px;\n",
       "    margin: auto;\n",
       "    padding-left: 1em;\n",
       "    padding-right: 1em;\n",
       "}\n",
       "\n",
       "#notebook li { /* More space between bullet points */\n",
       "margin-top:0.8em;\n",
       "}\n",
       "\n",
       "/* draw border around running cells */\n",
       "div.cell.border-box-sizing.code_cell.running { \n",
       "    border: 3px solid #111;\n",
       "}\n",
       "\n",
       "/* Put a solid color box around each cell and its output, visually linking them together */\n",
       "div.cell.code_cell {\n",
       "    background-color: #f4f3e0; \n",
       "    border-radius: 10px; /* rounded borders */\n",
       "    padding: 1em;\n",
       "    margin-top: 1em;\n",
       "}\n",
       "\n",
       "div.text_cell_render{\n",
       "    font-family: 'Arvo' sans-serif;\n",
       "    line-height: 130%;\n",
       "    font-size: 125%;\n",
       "    width:1100px;\n",
       "    margin-left: 0em;\n",
       "    margin-right: auto;\n",
       "}\n",
       "\n",
       "\n",
       "/* Formatting for header cells */\n",
       ".text_cell_render h1 {\n",
       "    font-family: 'Philosopher', sans-serif;\n",
       "    font-weight: 400;\n",
       "    font-size: 32pt;\n",
       "    line-height: 100%;\n",
       "    color: rgb(12,85,97);\n",
       "    margin-bottom: 0.1em;\n",
       "    margin-top: 0.1em;\n",
       "    display: block;\n",
       "}\t\n",
       ".text_cell_render h2 {\n",
       "    font-family: 'Philosopher', serif;\n",
       "    font-weight: 700;\n",
       "    font-size: 24pt;\n",
       "    line-height: 100%;\n",
       "    color: rgb(95,92,72);\n",
       "    margin-bottom: 0.1em;\n",
       "    margin-top: 0.1em;\n",
       "    display: block;\n",
       "}\t\n",
       "\n",
       ".text_cell_render h3 {\n",
       "    font-family: 'Philosopher', serif;\n",
       "    margin-top:12px;\n",
       "    margin-bottom: 3px;\n",
       "    font-style: italic;\n",
       "    color: rgb(95,92,72);\n",
       "}\n",
       "\n",
       ".text_cell_render h4 {\n",
       "    font-family: 'Philosopher', serif;\n",
       "}\n",
       "\n",
       ".text_cell_render h5 {\n",
       "    font-family: 'Alegreya Sans', sans-serif;\n",
       "    font-weight: 300;\n",
       "    font-size: 16pt;\n",
       "    color: grey;\n",
       "    font-style: italic;\n",
       "    margin-bottom: .1em;\n",
       "    margin-top: 0.1em;\n",
       "    display: block;\n",
       "}\n",
       "\n",
       ".text_cell_render h6 {\n",
       "    font-family: 'PT Mono', sans-serif;\n",
       "    font-weight: 300;\n",
       "    font-size: 10pt;\n",
       "    color: grey;\n",
       "    margin-bottom: 1px;\n",
       "    margin-top: 1px;\n",
       "}\n",
       "\n",
       ".CodeMirror{\n",
       "    font-family: \"PT Mono\";\n",
       "    font-size: 110%;\n",
       "}\n",
       "\n",
       "</style>\n"
      ],
      "text/plain": [
       "<IPython.core.display.HTML object>"
      ]
     },
     "execution_count": 1,
     "metadata": {},
     "output_type": "execute_result"
    }
   ],
   "source": [
    "from IPython.core.display import HTML\n",
    "css_file = './stylesheets/custom.css'\n",
    "HTML(open(css_file, \"r\").read())"
   ]
  },
  {
   "cell_type": "markdown",
   "metadata": {},
   "source": [
    "<div><img src=\"https://raw.githubusercontent.com/ACM-SIAM-KAUST-chapter/python_tutorial_2017/gh-pages/images/acmchapterlogo.png\" width=\"260px\" style=\"float: left; margin-right: 3em\">\n",
    "<img src=\"https://raw.githubusercontent.com/ACM-SIAM-KAUST-chapter/python_tutorial_2017/gh-pages/images/siamchapterlogo.png\" width=\"260px\" style=\"float: right;\"></div>\n",
    "<h1 align=\"center\">Introduction to</h1>\n",
    "<h1 align=\"center\">NumPy &amp; Scipy:</h1>\n",
    "<h1 align=\"center\">the core numerical scientific packages</h1>\n",
    "\n",
    "<p><br style=\"clear: both;\"/></p><p><br style=\"clear: both;\"/></p><p><br style=\"clear: both;\"/></p>"
   ]
  },
  {
   "cell_type": "markdown",
   "metadata": {},
   "source": [
    "<div style=\"color:#5f5c48\">\n",
    "This tutorial is prepared by ACM/SIAM Student Chapter of King Abdullah University of Science and Technology (KAUST).\n",
    "<br/>\n",
    "What we'll study here has been adapted from the following tutorials:\n",
    "<ul>\n",
    "<li>David Ketcheson's [Introduction to NumPy and Matplotlib](http://nbviewer.ipython.org/github/ketch/AMCS252/blob/master/2_Introduction_to_Numpy%20and_Matplotlib.ipynb)</li>\n",
    "<li>Software Carpentry's [Numerical analysis with NumPy](http://nbviewer.ipython.org/github/geocarpentry/2014-01-30-mit/blob/gh-pages/lessons/vignettes/Numerical%20analysis%20with%20NumPy.ipynb)</li>\n",
    "<li>J.R. Johansson's [Numpy - multidimensional data arrays](http://nbviewer.ipython.org/github/jrjohansson/scientific-python-lectures/blob/master/Lecture-2-Numpy.ipynb) and [SciPy - Library of scientific algorithms for Python](http://nbviewer.ipython.org/github/jrjohansson/scientific-python-lectures/blob/master/Lecture-3-Scipy.ipynb#SciPy---Library-of-scientific-algorithms-for-Python)</li>\n",
    "<li>Official [Tentative NumPy tutorial](http://www.scipy.org/Tentative_NumPy_Tutorial)</li>\n",
    "</ul>\n",
    "<br/>\n",
    "\n",
    "Current version is adapted from [KAUST Python Tutorials 2015](http://alshedivat.github.io/ACM-Python-Tutorials-KAUST-2015/) by Dmitry Kabanov.\n",
    "<br/><br/>\n",
    "\n",
    "Presented on 26 February, 2017.\n",
    "<br/><br/>\n",
    "\n",
    "**Prerequisites:** Introduction to Python, basic knowledge of numerical methods\n",
    "</div>"
   ]
  },
  {
   "cell_type": "markdown",
   "metadata": {},
   "source": [
    "## NumPy"
   ]
  },
  {
   "cell_type": "markdown",
   "metadata": {},
   "source": [
    "Python includes a package for numerical computation called numpy, which is an essential tool for scientific computing. \n",
    "It is based on multidimensional arrays (vectors and matrices) and provides a large library of functions and operators that work efficiently on these objects.\n",
    "In this way, any numerical algorithm is expressed as operations on arrays and in many cases runs almost as quickly as the equivalent C code.\n",
    "\n",
    "`Numpy` serves as a foundation library that makes Python a competitor to MATLAB for scientific computing.\n",
    "\n",
    "`NumPy` is used in: \n",
    "Numerical Analysis, Linear algebra, Solution of differential equations, Statistical analysis and many more...\n"
   ]
  },
  {
   "cell_type": "markdown",
   "metadata": {},
   "source": [
    "### Why to use NumPy?\n",
    "\n",
    "Consider the following list and suppose we want to perform some simple algebraic operations:"
   ]
  },
  {
   "cell_type": "code",
   "execution_count": 2,
   "metadata": {
    "collapsed": false
   },
   "outputs": [],
   "source": [
    "price = [5.99, 10.25, 2.0, 40.99, 5.60, 63.49]"
   ]
  },
  {
   "cell_type": "code",
   "execution_count": 3,
   "metadata": {
    "collapsed": false
   },
   "outputs": [
    {
     "data": {
      "text/plain": [
       "[5.99, 10.25, 2.0, 40.99, 5.6, 63.49, 5.99, 10.25, 2.0, 40.99, 5.6, 63.49]"
      ]
     },
     "execution_count": 3,
     "metadata": {},
     "output_type": "execute_result"
    }
   ],
   "source": [
    "price*2"
   ]
  },
  {
   "cell_type": "code",
   "execution_count": 4,
   "metadata": {
    "collapsed": false
   },
   "outputs": [
    {
     "ename": "TypeError",
     "evalue": "can only concatenate list (not \"float\") to list",
     "output_type": "error",
     "traceback": [
      "\u001b[0;31m---------------------------------------------------------------------------\u001b[0m",
      "\u001b[0;31mTypeError\u001b[0m                                 Traceback (most recent call last)",
      "\u001b[0;32m<ipython-input-4-ba6ebb983a2c>\u001b[0m in \u001b[0;36m<module>\u001b[0;34m()\u001b[0m\n\u001b[0;32m----> 1\u001b[0;31m \u001b[0mprice\u001b[0m\u001b[0;34m+\u001b[0m\u001b[0;36m0.5\u001b[0m\u001b[0;34m\u001b[0m\u001b[0m\n\u001b[0m",
      "\u001b[0;31mTypeError\u001b[0m: can only concatenate list (not \"float\") to list"
     ]
    }
   ],
   "source": [
    "price+0.5"
   ]
  },
  {
   "cell_type": "markdown",
   "metadata": {},
   "source": [
    "Clearly, if we wanted to double the value of each element and add half, this cannot be done easily. Instead, we would have to use a loop:"
   ]
  },
  {
   "cell_type": "code",
   "execution_count": 5,
   "metadata": {
    "collapsed": false
   },
   "outputs": [
    {
     "name": "stdout",
     "output_type": "stream",
     "text": [
      "[12.48, 21.0, 4.5, 82.48, 11.7, 127.48]\n"
     ]
    }
   ],
   "source": [
    "for i in range(len(price)):\n",
    "    price[i] = price[i]*2\n",
    "    price[i] = price[i]+0.5\n",
    "print(price)"
   ]
  },
  {
   "cell_type": "markdown",
   "metadata": {},
   "source": [
    "However, it is slow (first) and requires too much code (second). It can be done more efficient using `NumPy`."
   ]
  },
  {
   "cell_type": "markdown",
   "metadata": {},
   "source": [
    "### Getting started\n",
    "\n",
    "We start, by importing the NumPy module. Import statements like this are the typical way of getting access to functions in Python. The most general way to import a module is the following:"
   ]
  },
  {
   "cell_type": "code",
   "execution_count": 6,
   "metadata": {
    "collapsed": false
   },
   "outputs": [],
   "source": [
    "import numpy as np"
   ]
  },
  {
   "cell_type": "markdown",
   "metadata": {},
   "source": [
    "First example: compute $\\sin (3\\pi/2)$:"
   ]
  },
  {
   "cell_type": "code",
   "execution_count": 7,
   "metadata": {
    "collapsed": false
   },
   "outputs": [
    {
     "data": {
      "text/plain": [
       "-1.0"
      ]
     },
     "execution_count": 7,
     "metadata": {},
     "output_type": "execute_result"
    }
   ],
   "source": [
    "np.sin(3*np.pi/2)"
   ]
  },
  {
   "cell_type": "markdown",
   "metadata": {},
   "source": [
    "Second example: compute $e + \\pi$:"
   ]
  },
  {
   "cell_type": "code",
   "execution_count": 8,
   "metadata": {
    "collapsed": false
   },
   "outputs": [
    {
     "data": {
      "text/plain": [
       "5.8598744820488378"
      ]
     },
     "execution_count": 8,
     "metadata": {},
     "output_type": "execute_result"
    }
   ],
   "source": [
    "np.exp(1) + np.pi"
   ]
  },
  {
   "cell_type": "markdown",
   "metadata": {},
   "source": [
    "### Arrays"
   ]
  },
  {
   "cell_type": "markdown",
   "metadata": {},
   "source": [
    "In above examples we compute scalars.\n",
    "What makes NumPy brilliant is that it allows you make computations on multidimensional quantities (such as vectors and matrices) using thing called `ndarray` ($N$-dimensional array).\n",
    "Computer scientists call such a thing a *data structure*.\n",
    "We will consider only one-dimensional (vectors) and two-dimensional (matrices) arrays in this tutorial."
   ]
  },
  {
   "cell_type": "markdown",
   "metadata": {},
   "source": [
    "Let's create a 1D array $p$ as we did before and compute $2p + 0.5$:"
   ]
  },
  {
   "cell_type": "code",
   "execution_count": 9,
   "metadata": {
    "collapsed": false
   },
   "outputs": [
    {
     "data": {
      "text/plain": [
       "numpy.ndarray"
      ]
     },
     "execution_count": 9,
     "metadata": {},
     "output_type": "execute_result"
    }
   ],
   "source": [
    "price = np.array([1, 2, 3, 4, 5])\n",
    "type(price)"
   ]
  },
  {
   "cell_type": "code",
   "execution_count": 10,
   "metadata": {
    "collapsed": false
   },
   "outputs": [
    {
     "data": {
      "text/plain": [
       "array([  2.5,   4.5,   6.5,   8.5,  10.5])"
      ]
     },
     "execution_count": 10,
     "metadata": {},
     "output_type": "execute_result"
    }
   ],
   "source": [
    "price = price*2+0.5\n",
    "price"
   ]
  },
  {
   "cell_type": "markdown",
   "metadata": {},
   "source": [
    "There are other ways to create one-dimensional arrays:"
   ]
  },
  {
   "cell_type": "markdown",
   "metadata": {},
   "source": [
    "Function `linspace` has three arguments: the value of the left point, the value of the right point and the number of points in total:"
   ]
  },
  {
   "cell_type": "code",
   "execution_count": 11,
   "metadata": {
    "collapsed": false
   },
   "outputs": [
    {
     "data": {
      "text/plain": [
       "array([ 0.  ,  0.25,  0.5 ,  0.75,  1.  ])"
      ]
     },
     "execution_count": 11,
     "metadata": {},
     "output_type": "execute_result"
    }
   ],
   "source": [
    "x = np.linspace(0, 1, num=5)\n",
    "x"
   ]
  },
  {
   "cell_type": "markdown",
   "metadata": {},
   "source": [
    "Another function, `arange` is very similar but it takes a step between points as the third argument:"
   ]
  },
  {
   "cell_type": "code",
   "execution_count": 12,
   "metadata": {
    "collapsed": false
   },
   "outputs": [
    {
     "data": {
      "text/plain": [
       "array([ 0.  ,  0.25,  0.5 ,  0.75])"
      ]
     },
     "execution_count": 12,
     "metadata": {},
     "output_type": "execute_result"
    }
   ],
   "source": [
    "y = np.arange(0, 1, 0.25)\n",
    "y"
   ]
  },
  {
   "cell_type": "markdown",
   "metadata": {},
   "source": [
    "Notice, that `arange` does not include the right point in the result!"
   ]
  },
  {
   "cell_type": "markdown",
   "metadata": {},
   "source": [
    "Other functions that can be used to create an array:"
   ]
  },
  {
   "cell_type": "code",
   "execution_count": 13,
   "metadata": {
    "collapsed": false
   },
   "outputs": [
    {
     "name": "stdout",
     "output_type": "stream",
     "text": [
      "[ 0.  0.  0.  0.  0.] \n",
      " [ 1.  1.  1.]\n"
     ]
    }
   ],
   "source": [
    "x = np.zeros(5)\n",
    "y = np.ones(3)\n",
    "print(x, '\\n', y)"
   ]
  },
  {
   "cell_type": "markdown",
   "metadata": {},
   "source": [
    "Now let's compute $\\sin 2\\pi x$ and see its graph:"
   ]
  },
  {
   "cell_type": "code",
   "execution_count": 14,
   "metadata": {
    "collapsed": false,
    "scrolled": true
   },
   "outputs": [
    {
     "data": {
      "text/plain": [
       "[<matplotlib.lines.Line2D at 0x1108d5470>]"
      ]
     },
     "execution_count": 14,
     "metadata": {},
     "output_type": "execute_result"
    },
    {
     "data": {
      "image/png": "[encoded data removed]",
      "text/plain": [
       "<matplotlib.figure.Figure at 0x10fa820b8>"
      ]
     },
     "metadata": {},
     "output_type": "display_data"
    }
   ],
   "source": [
    "x = np.linspace(0, 1, num=21)\n",
    "y = np.sin(2*np.pi*x)\n",
    "\n",
    "import matplotlib.pyplot as plt\n",
    "%matplotlib inline\n",
    "\n",
    "plt.figure()\n",
    "plt.plot(x, y, '-')"
   ]
  },
  {
   "cell_type": "markdown",
   "metadata": {},
   "source": [
    "---\n",
    "### Exercise 1\n",
    "\n",
    "Change the inputs of the *linspace* and *arange* function until you understand exactly what they do. Using both ways, create a vector of starting from -1.5 to 4.5 inclusive with a step of 0.5. "
   ]
  },
  {
   "cell_type": "code",
   "execution_count": 15,
   "metadata": {
    "collapsed": false
   },
   "outputs": [],
   "source": [
    "# type your solution here"
   ]
  },
  {
   "cell_type": "markdown",
   "metadata": {},
   "source": [
    "##### Solution"
   ]
  },
  {
   "cell_type": "code",
   "execution_count": null,
   "metadata": {
    "collapsed": false
   },
   "outputs": [],
   "source": [
    "# %load solutions/session2/1D_array.py\n",
    "x = np.linspace(-1.5,4.5,13)\n",
    "y = np.arange(-1.5,5,0.5)\n",
    "print (x)\n",
    "print (y)\n"
   ]
  },
  {
   "cell_type": "markdown",
   "metadata": {},
   "source": [
    "We can always find out what a function does by typing its name, followed by a question mark:"
   ]
  },
  {
   "cell_type": "code",
   "execution_count": 22,
   "metadata": {
    "collapsed": false
   },
   "outputs": [],
   "source": [
    "np.arange?"
   ]
  },
  {
   "cell_type": "markdown",
   "metadata": {},
   "source": [
    "Resize the help window (to get it out of your way) by dragging the divider. Double click on the divider to close it."
   ]
  },
  {
   "cell_type": "markdown",
   "metadata": {},
   "source": [
    "### Multidimensional arrays\n",
    "\n",
    "We can create multidimensional arrays, like the following:"
   ]
  },
  {
   "cell_type": "code",
   "execution_count": 30,
   "metadata": {
    "collapsed": false
   },
   "outputs": [
    {
     "name": "stdout",
     "output_type": "stream",
     "text": [
      "A = \n",
      " [[  1.    2.4 -13. ]\n",
      " [  4.1   5.    0. ]\n",
      " [  7.2   8.    9. ]]\n",
      "(3, 3)\n"
     ]
    }
   ],
   "source": [
    "A = np.array([\n",
    "    [1, 2.4, -13],\n",
    "    [4.1, 5, 0],\n",
    "    [7.2, 8, 9]\n",
    "])\n",
    "print(\"A = \\n\", A)\n",
    "print(A.shape)"
   ]
  },
  {
   "cell_type": "markdown",
   "metadata": {},
   "source": [
    "To see all different attributes of the array object type its name followed by a fullstop and press *tap*. Note that some attributes are basically functions and require parentheses (with or without arguments), e.g. *transpose* and others don't, e.g. *ndim*:"
   ]
  },
  {
   "cell_type": "code",
   "execution_count": 25,
   "metadata": {
    "collapsed": false
   },
   "outputs": [
    {
     "name": "stdout",
     "output_type": "stream",
     "text": [
      "[[  1.    4.1   7.2]\n",
      " [  2.4   5.    8. ]\n",
      " [-13.    0.    9. ]]\n",
      "2\n"
     ]
    }
   ],
   "source": [
    "print(A.transpose())\n",
    "print(A.ndim)"
   ]
  },
  {
   "cell_type": "markdown",
   "metadata": {},
   "source": [
    "We can also define the shape of the array:"
   ]
  },
  {
   "cell_type": "code",
   "execution_count": 26,
   "metadata": {
    "collapsed": false
   },
   "outputs": [
    {
     "data": {
      "text/plain": [
       "array([[ 0.83140826,  0.57806063,  0.02359354,  0.8937764 ,  0.59164341],\n",
       "       [ 0.13891259,  0.31376313,  0.82242634,  0.80782011,  0.25030733],\n",
       "       [ 0.65847677,  0.95811486,  0.1987836 ,  0.7035087 ,  0.28968929],\n",
       "       [ 0.15904085,  0.97726721,  0.41033834,  0.49373835,  0.79527837],\n",
       "       [ 0.27062751,  0.15695301,  0.70117262,  0.25383595,  0.03348545]])"
      ]
     },
     "execution_count": 26,
     "metadata": {},
     "output_type": "execute_result"
    }
   ],
   "source": [
    "np.random.uniform(0, 1, size=(5,5)) # 5 x 5 matrix with elements from a uniform distribution"
   ]
  },
  {
   "cell_type": "markdown",
   "metadata": {},
   "source": [
    "#### Other ways to create matrices\n",
    "\n",
    "We can use functions `zeros` and `ones` (that we used before) to create matrices.\n",
    "Also we can use function `eye` to create an identity matrix and function `diag` to create a diagonal matrix:"
   ]
  },
  {
   "cell_type": "code",
   "execution_count": 27,
   "metadata": {
    "collapsed": false
   },
   "outputs": [
    {
     "name": "stdout",
     "output_type": "stream",
     "text": [
      "[[ 0.  0.  0.  0.]\n",
      " [ 0.  0.  0.  0.]\n",
      " [ 0.  0.  0.  0.]]\n",
      "\n",
      "\n",
      "[[ 1.  1.  1.]\n",
      " [ 1.  1.  1.]]\n",
      "\n",
      "\n",
      "[[ 1.  0.  0.]\n",
      " [ 0.  1.  0.]\n",
      " [ 0.  0.  1.]]\n",
      "\n",
      "\n",
      "[[1 0 0]\n",
      " [0 2 0]\n",
      " [0 0 3]]\n"
     ]
    }
   ],
   "source": [
    "print(np.zeros((3,4)))\n",
    "print('\\n')\n",
    "print(np.ones((2,3)))\n",
    "print('\\n')\n",
    "print(np.eye(3))\n",
    "print('\\n')\n",
    "print(np.diag([1, 2, 3]))"
   ]
  },
  {
   "cell_type": "markdown",
   "metadata": {},
   "source": [
    "Notice how many parentheses we should use: to construct zero matrix of size $2\\times3$, we should pass the size as a *tuple*: `(2,`&nbsp;`3)`."
   ]
  },
  {
   "cell_type": "markdown",
   "metadata": {},
   "source": [
    "### Indexing and Slicing\n",
    "\n",
    "To index an element in an array, we use brackets `[]`:"
   ]
  },
  {
   "cell_type": "code",
   "execution_count": 31,
   "metadata": {
    "collapsed": false
   },
   "outputs": [
    {
     "data": {
      "text/plain": [
       "5"
      ]
     },
     "execution_count": 31,
     "metadata": {},
     "output_type": "execute_result"
    }
   ],
   "source": [
    "x = np.array([1, 1, 2, 3, 5, 8, 13])\n",
    "x[4]"
   ]
  },
  {
   "cell_type": "markdown",
   "metadata": {},
   "source": [
    "And with matrices we put comma between the index of a row and a column:"
   ]
  },
  {
   "cell_type": "code",
   "execution_count": 32,
   "metadata": {
    "collapsed": false
   },
   "outputs": [
    {
     "name": "stdout",
     "output_type": "stream",
     "text": [
      "[[1 2 3]\n",
      " [4 5 6]\n",
      " [7 8 9]]\n",
      "1\n",
      "8\n"
     ]
    }
   ],
   "source": [
    "A = np.array([\n",
    "    [1, 2, 3],\n",
    "    [4, 5, 6],\n",
    "    [7, 8, 9]\n",
    "])\n",
    "print(A)\n",
    "print(A[0, 0])\n",
    "print(A[-1, 1])"
   ]
  },
  {
   "cell_type": "markdown",
   "metadata": {},
   "source": [
    "Notice, how the negative indices are used to index from the end instead of the beginning."
   ]
  },
  {
   "cell_type": "markdown",
   "metadata": {},
   "source": [
    "We can index several elements simultaneously: this is called *slicing*."
   ]
  },
  {
   "cell_type": "code",
   "execution_count": 33,
   "metadata": {
    "collapsed": false
   },
   "outputs": [
    {
     "name": "stdout",
     "output_type": "stream",
     "text": [
      "[[1 2 3]\n",
      " [4 5 6]\n",
      " [7 8 9]]\n"
     ]
    }
   ],
   "source": [
    "print(A)"
   ]
  },
  {
   "cell_type": "code",
   "execution_count": 34,
   "metadata": {
    "collapsed": false
   },
   "outputs": [
    {
     "data": {
      "text/plain": [
       "array([1, 2])"
      ]
     },
     "execution_count": 34,
     "metadata": {},
     "output_type": "execute_result"
    }
   ],
   "source": [
    "A[0, 0:2]"
   ]
  },
  {
   "cell_type": "markdown",
   "metadata": {},
   "source": [
    "Note that the fundamental difference from MATLAB is that the indexing starts from zero and is exclusive of the second index. Hence, in the above example 1:3 refers to the second and third row and 0:2 to the first and second column."
   ]
  },
  {
   "cell_type": "markdown",
   "metadata": {},
   "source": [
    "We can index in some clever ways too:  "
   ]
  },
  {
   "cell_type": "code",
   "execution_count": 35,
   "metadata": {
    "collapsed": false
   },
   "outputs": [
    {
     "name": "stdout",
     "output_type": "stream",
     "text": [
      "[1 2 3]\n",
      "[3 6 9]\n"
     ]
    }
   ],
   "source": [
    "print(A[0, :]) # row selection\n",
    "print(A[:, 2]) # column selection"
   ]
  },
  {
   "cell_type": "code",
   "execution_count": 36,
   "metadata": {
    "collapsed": false
   },
   "outputs": [
    {
     "name": "stdout",
     "output_type": "stream",
     "text": [
      "[[2 3]\n",
      " [5 6]\n",
      " [8 9]]\n",
      "[7 8 9]\n"
     ]
    }
   ],
   "source": [
    "print(A[:, 1:]) # all rows, from 2nd column until the end\n",
    "print(A[-1, :]) # last row, all columns"
   ]
  },
  {
   "cell_type": "markdown",
   "metadata": {},
   "source": [
    "We can change array's elements:"
   ]
  },
  {
   "cell_type": "code",
   "execution_count": 37,
   "metadata": {
    "collapsed": false
   },
   "outputs": [
    {
     "name": "stdout",
     "output_type": "stream",
     "text": [
      "[[1 2 3]\n",
      " [4 5 6]\n",
      " [7 8 9]]\n",
      "\n",
      "[[ 1  2 23]\n",
      " [ 4  5 26]\n",
      " [ 7  8 29]]\n"
     ]
    }
   ],
   "source": [
    "print(A)\n",
    "print()\n",
    "A[:, 2] = [23, 26, 29]\n",
    "print(A)"
   ]
  },
  {
   "cell_type": "markdown",
   "metadata": {},
   "source": [
    "There is an easy way to reverse a vector:"
   ]
  },
  {
   "cell_type": "code",
   "execution_count": 38,
   "metadata": {
    "collapsed": false
   },
   "outputs": [
    {
     "name": "stdout",
     "output_type": "stream",
     "text": [
      "[0 1 2 3 4 5 6 7 8 9]\n",
      "[9 8 7 6 5 4 3 2 1 0]\n"
     ]
    }
   ],
   "source": [
    "a = np.arange(0, 10)\n",
    "print(a)\n",
    "print(a[: :-1]) # reverse a"
   ]
  },
  {
   "cell_type": "markdown",
   "metadata": {},
   "source": [
    "We can also index an array using boolean arrays:"
   ]
  },
  {
   "cell_type": "code",
   "execution_count": 39,
   "metadata": {
    "collapsed": false
   },
   "outputs": [
    {
     "name": "stdout",
     "output_type": "stream",
     "text": [
      "[False False False False False False  True  True  True  True]\n",
      "[0 1 2 3 4 5 0 0 0 0]\n"
     ]
    }
   ],
   "source": [
    "b = a > 5\n",
    "print(b)\n",
    "a[b] = 0  # All elements of 'a' higher than 5 become 0\n",
    "print(a)"
   ]
  },
  {
   "cell_type": "markdown",
   "metadata": {},
   "source": [
    "### Follow-the-instructor example: computing derivatives numerically"
   ]
  },
  {
   "cell_type": "markdown",
   "metadata": {},
   "source": [
    "Now we will use the knowledge we obtained to compute a first derivative to $\\sin 2\\pi x$ numerically."
   ]
  },
  {
   "cell_type": "markdown",
   "metadata": {},
   "source": [
    "We will use the finite-difference formula of the second order of accuracy:\n",
    "\n",
    "$$ y'(x_i) \\approx \\frac{y_{i+1} - y_{i-1}}{2\\Delta x} $$\n",
    "\n",
    "with formulas of the first order of accuracy at endpoints:\n",
    "\n",
    "$$ y'(x_0) \\approx \\frac{y_1 - y_0}{\\Delta x}, \\quad\n",
    "y'(x_N) \\approx \\frac{y_N - y_{N-1}}{\\Delta x} $$"
   ]
  },
  {
   "cell_type": "code",
   "execution_count": 40,
   "metadata": {
    "collapsed": false
   },
   "outputs": [],
   "source": [
    "#follow the instructor"
   ]
  },
  {
   "cell_type": "code",
   "execution_count": null,
   "metadata": {
    "collapsed": false
   },
   "outputs": [],
   "source": []
  },
  {
   "cell_type": "markdown",
   "metadata": {},
   "source": [
    "### Other basic operations"
   ]
  },
  {
   "cell_type": "markdown",
   "metadata": {},
   "source": [
    "We can use array functions `min` or `max` to find minimum or maximum element in the array:"
   ]
  },
  {
   "cell_type": "code",
   "execution_count": 41,
   "metadata": {
    "collapsed": false
   },
   "outputs": [],
   "source": [
    "x = np.array([np.pi, 1, 27, 34.0, 5, 44, 15])"
   ]
  },
  {
   "cell_type": "code",
   "execution_count": 42,
   "metadata": {
    "collapsed": false
   },
   "outputs": [
    {
     "name": "stdout",
     "output_type": "stream",
     "text": [
      "1.0\n",
      "44.0\n"
     ]
    }
   ],
   "source": [
    "print(x.min())\n",
    "print(x.max())"
   ]
  },
  {
   "cell_type": "code",
   "execution_count": 43,
   "metadata": {
    "collapsed": false
   },
   "outputs": [
    {
     "name": "stdout",
     "output_type": "stream",
     "text": [
      "[12 15 78]\n",
      "[1 4 7]\n",
      "[[ 1  3 26]\n",
      " [ 4  9 35]\n",
      " [ 7 15 44]]\n"
     ]
    }
   ],
   "source": [
    "print(A.sum(axis=0))     # sum of each column\n",
    "print(A.min(axis=1))     # min of each row\n",
    "print(A.cumsum(axis=1))  # cumulative sum along each row"
   ]
  },
  {
   "cell_type": "markdown",
   "metadata": {},
   "source": [
    "In Python *axis* refers to the dimensions of arrays; *axis=0* refers to the colums and *axis=1* to the rows."
   ]
  },
  {
   "cell_type": "markdown",
   "metadata": {},
   "source": [
    "---\n",
    "### Exercise 2\n",
    "\n",
    "1. Create a vector with values ranging from 10 to 99\n",
    "2. Find indices of non-zero elements from [1,2,0,0,4,0]. Hint: use <em>np.nonzero</em>\n",
    "3. Declare a 8x8 zero matrix and set all the elements in the first column to value 3.\n",
    "4. Create a 4x4 array with numbers from a normal distribution with mean = 3 and standard deviation = 1.5. Hint: use <em>np.random.normal</em>. Sum the values of each row and store the result in a new array."
   ]
  },
  {
   "cell_type": "code",
   "execution_count": 44,
   "metadata": {
    "collapsed": false
   },
   "outputs": [],
   "source": [
    "# type your solution here"
   ]
  },
  {
   "cell_type": "markdown",
   "metadata": {},
   "source": [
    "##### Solution"
   ]
  },
  {
   "cell_type": "code",
   "execution_count": 46,
   "metadata": {
    "collapsed": false
   },
   "outputs": [
    {
     "name": "stdout",
     "output_type": "stream",
     "text": [
      "Part 1:\n",
      "[10 11 12 13 14 15 16 17 18 19 20 21 22 23 24 25 26 27 28 29 30 31 32 33 34\n",
      " 35 36 37 38 39 40 41 42 43 44 45 46 47 48 49 50 51 52 53 54 55 56 57 58 59\n",
      " 60 61 62 63 64 65 66 67 68 69 70 71 72 73 74 75 76 77 78 79 80 81 82 83 84\n",
      " 85 86 87 88 89 90 91 92 93 94 95 96 97 98 99]\n",
      "\n",
      "Part 2:\n",
      "[0 1 4]\n",
      "\n",
      "Part 3:\n",
      "[[ 0.  1.  0.  1.  0.  1.  0.  1.]\n",
      " [ 1.  0.  1.  0.  1.  0.  1.  0.]\n",
      " [ 0.  1.  0.  1.  0.  1.  0.  1.]\n",
      " [ 1.  0.  1.  0.  1.  0.  1.  0.]\n",
      " [ 0.  1.  0.  1.  0.  1.  0.  1.]\n",
      " [ 1.  0.  1.  0.  1.  0.  1.  0.]\n",
      " [ 0.  1.  0.  1.  0.  1.  0.  1.]\n",
      " [ 1.  0.  1.  0.  1.  0.  1.  0.]]\n",
      "\n",
      "Part 4:\n",
      "[[ 1  4  9]\n",
      " [ 2  8 18]\n",
      " [ 3 12 27]\n",
      " [ 4 16 36]\n",
      " [ 5 20 45]]\n",
      "\n",
      "Part 5:\n",
      "[[ 0.96015636  2.55634018  4.17590916  2.91010113]\n",
      " [ 5.64964804  3.27467046  4.3661072   0.84234394]\n",
      " [ 0.36539678  4.7330197   3.91428631  1.39736621]\n",
      " [ 5.38352132  0.61407006  4.02491362  1.86491946]]\n",
      "[ 10.60250683  14.13276963  10.41006901  11.88742445]\n"
     ]
    }
   ],
   "source": [
    "# %load solutions/session2/array_operations.py\n",
    "print('Part 1:')\n",
    "print(10+np.arange(90))\n",
    "\n",
    "print('\\nPart 2:')\n",
    "print(np.nonzero([1,2,0,0,4,0])[0])\n",
    "\n",
    "print('\\nPart 3:')\n",
    "chess = np.zeros((8,8))\n",
    "chess[1::2,::2] = 1\n",
    "chess[::2,1::2] = 1\n",
    "print(chess)\n",
    "\n",
    "print('\\nPart 4:')\n",
    "print(np.fromfunction(lambda i, j: (i +1)* (j+1)**2, (5, 3), dtype=int))\n",
    "\n",
    "print('\\nPart 5:')\n",
    "normal_dist = np.random.normal(3, 1.5, (4,4))\n",
    "print(normal_dist)\n",
    "print(normal_dist.sum(axis=1))\n"
   ]
  },
  {
   "cell_type": "markdown",
   "metadata": {},
   "source": [
    "Now let's work with some real data. Ensure that the <em>stockholm_temp.txt</em> in the same directory with this notebook. \n",
    "This file contains the [daily average temperatures](http://bolin.su.se/data/stockholm/homogenized_daily_mean_temperatures.php)\n",
    "according to observations of Stockholm for the years 1756 - 2012.\n",
    "The following code checks if the file exists, opens it, prints the first lines and stores the data in an array."
   ]
  },
  {
   "cell_type": "code",
   "execution_count": 47,
   "metadata": {
    "collapsed": false
   },
   "outputs": [
    {
     "name": "stdout",
     "output_type": "stream",
     "text": [
      "[[  1.75600000e+03   1.00000000e+00   1.00000000e+00  -8.70000000e+00]\n",
      " [  1.75600000e+03   1.00000000e+00   2.00000000e+00  -9.20000000e+00]\n",
      " [  1.75600000e+03   1.00000000e+00   3.00000000e+00  -8.60000000e+00]]\n"
     ]
    }
   ],
   "source": [
    "filename = 'data/session2/stockholm_temp.txt'\n",
    "data = np.loadtxt(filename) # alternative we can use getfromtxt command\n",
    "    \n",
    "# Print first three lines of data.\n",
    "print(data[0:3, :])"
   ]
  },
  {
   "cell_type": "markdown",
   "metadata": {},
   "source": [
    "Since the data are in the form\n",
    "\n",
    "- Year\n",
    "- Month\n",
    "- Day\n",
    "- Temperature\n",
    "\n",
    "we would like to express them in a better way. We define a `dtype`, that is the data type for each column: int, int, int, float:"
   ]
  },
  {
   "cell_type": "code",
   "execution_count": 48,
   "metadata": {
    "collapsed": false
   },
   "outputs": [
    {
     "data": {
      "text/plain": [
       "array([(1756, 1,  1, -8.7), (1756, 1,  2, -9.2), (1756, 1,  3, -8.6),\n",
       "       (1756, 1,  4, -7.7), (1756, 1,  5, -7.2), (1756, 1,  6, -1.6),\n",
       "       (1756, 1,  7,  0.7), (1756, 1,  8,  1.3), (1756, 1,  9,  2.4),\n",
       "       (1756, 1, 10,  0.8)], \n",
       "      dtype=[('Year', '<i2'), ('Month', 'i1'), ('Day', 'i1'), ('Temp', '<f8')])"
      ]
     },
     "execution_count": 48,
     "metadata": {},
     "output_type": "execute_result"
    }
   ],
   "source": [
    "dt = np.dtype([('Year', 'int16'), ('Month', 'int8'), ('Day', 'int8'), ('Temp', 'float64')])\n",
    "data = np.loadtxt(filename, dtype=dt)\n",
    "data[:10] # first 10 entries of our data"
   ]
  },
  {
   "cell_type": "markdown",
   "metadata": {},
   "source": [
    "We can now look for the example only on the temperatures:"
   ]
  },
  {
   "cell_type": "code",
   "execution_count": 49,
   "metadata": {
    "collapsed": false
   },
   "outputs": [
    {
     "data": {
      "text/plain": [
       "array([-8.7, -9.2, -8.6, ...,  0.2,  2.6,  2.2])"
      ]
     },
     "execution_count": 49,
     "metadata": {},
     "output_type": "execute_result"
    }
   ],
   "source": [
    "data['Temp']"
   ]
  },
  {
   "cell_type": "markdown",
   "metadata": {},
   "source": [
    "and plot temperature in July 2012:"
   ]
  },
  {
   "cell_type": "code",
   "execution_count": 50,
   "metadata": {
    "collapsed": false
   },
   "outputs": [
    {
     "data": {
      "text/plain": [
       "array([(2012, 7,  1,  17.7), (2012, 7,  2,  16.3), (2012, 7,  3,  17.7),\n",
       "       (2012, 7,  4,  17.4), (2012, 7,  5,  16.4), (2012, 7,  6,  17.2),\n",
       "       (2012, 7,  7,  19.7), (2012, 7,  8,  17.9), (2012, 7,  9,  19.3),\n",
       "       (2012, 7, 10,  17.2), (2012, 7, 11,  16.5), (2012, 7, 12,  16.9),\n",
       "       (2012, 7, 13,  14.9), (2012, 7, 14,  15.2), (2012, 7, 15,  15. ),\n",
       "       (2012, 7, 16,  16.1), (2012, 7, 17,  14. ), (2012, 7, 18,  14.6),\n",
       "       (2012, 7, 19,  14.9), (2012, 7, 20,  15.5), (2012, 7, 21,  13.6),\n",
       "       (2012, 7, 22,  16.3), (2012, 7, 23,  15.9), (2012, 7, 24,  20.3),\n",
       "       (2012, 7, 25,  20.6), (2012, 7, 26,  17.9), (2012, 7, 27,  16.4),\n",
       "       (2012, 7, 28,  19.2), (2012, 7, 29,  18.6), (2012, 7, 30,  17. ),\n",
       "       (2012, 7, 31,  13.9)], \n",
       "      dtype=[('Year', '<i2'), ('Month', 'i1'), ('Day', 'i1'), ('Temp', '<f8')])"
      ]
     },
     "execution_count": 50,
     "metadata": {},
     "output_type": "execute_result"
    },
    {
     "data": {
      "image/png": "[encoded data removed]",
      "text/plain": [
       "<matplotlib.figure.Figure at 0x110877908>"
      ]
     },
     "metadata": {},
     "output_type": "display_data"
    }
   ],
   "source": [
    "years = data['Year']\n",
    "temp = data['Temp']\n",
    "\n",
    "\n",
    "plot_data = data[(data['Year'] == 2012) & (data['Month'] == 7)]\n",
    "\n",
    "plt.figure()\n",
    "plt.plot(plot_data['Day'], plot_data['Temp'], '-')\n",
    "plot_data"
   ]
  },
  {
   "cell_type": "markdown",
   "metadata": {},
   "source": [
    "---\n",
    "### Exercise 3\n",
    "\n",
    "Make an array with the temperatures of the 5th day of every month in 2000."
   ]
  },
  {
   "cell_type": "code",
   "execution_count": 51,
   "metadata": {
    "collapsed": false
   },
   "outputs": [],
   "source": [
    "# type your solution here"
   ]
  },
  {
   "cell_type": "markdown",
   "metadata": {},
   "source": [
    "##### Solution"
   ]
  },
  {
   "cell_type": "code",
   "execution_count": 53,
   "metadata": {
    "collapsed": false
   },
   "outputs": [
    {
     "name": "stdout",
     "output_type": "stream",
     "text": [
      "3084\n",
      "[-7.2 -1.2 -1.  ...,  8.5  3.9 -4.2]\n"
     ]
    }
   ],
   "source": [
    "# %load solutions/session2/temperatures.py\n",
    "day = 5\n",
    "indices = np.where(data['Day'] == day) # find indices of 5th day for every month (over all data)\n",
    "temp = data['Temp'][indices] # find corresponding temperatures\n",
    "print(temp.size)\n",
    "print(temp)\n"
   ]
  },
  {
   "cell_type": "markdown",
   "metadata": {},
   "source": [
    "### Linear algebra\n",
    "\n",
    "Handling *ndarrays* is really powerful. Of the many things one can do with NumPy's arrays is linear algebra:  "
   ]
  },
  {
   "cell_type": "code",
   "execution_count": 55,
   "metadata": {
    "collapsed": false
   },
   "outputs": [
    {
     "name": "stdout",
     "output_type": "stream",
     "text": [
      "[ 0.51551471  0.13270754  0.55979456  0.24638503  0.86521711  0.27927764\n",
      "  0.49640099  0.81195922  0.71634199  0.21532327]\n"
     ]
    }
   ],
   "source": [
    "x = np.random.random(10)\n",
    "print(x)"
   ]
  },
  {
   "cell_type": "markdown",
   "metadata": {},
   "source": [
    "We can find $L_\\infty$-norm of this vector:"
   ]
  },
  {
   "cell_type": "code",
   "execution_count": 56,
   "metadata": {
    "collapsed": false
   },
   "outputs": [
    {
     "data": {
      "text/plain": [
       "0.86521710548285347"
      ]
     },
     "execution_count": 56,
     "metadata": {},
     "output_type": "execute_result"
    }
   ],
   "source": [
    "np.linalg.norm(x, np.inf) # maximum norm of a vector"
   ]
  },
  {
   "cell_type": "markdown",
   "metadata": {},
   "source": [
    "We can use this module to solve a linear system of equations\n",
    "\n",
    "$$\n",
    "\\begin{align}\n",
    "x + 2y &= 12, \\\\\n",
    "3x + 4y &= 29\n",
    "\\end{align}\n",
    "$$"
   ]
  },
  {
   "cell_type": "code",
   "execution_count": 57,
   "metadata": {
    "collapsed": false
   },
   "outputs": [
    {
     "name": "stdout",
     "output_type": "stream",
     "text": [
      "[[1 2]\n",
      " [3 4]]\n",
      "[12 29]\n"
     ]
    }
   ],
   "source": [
    "A = np.array([[1, 2],[3, 4]])\n",
    "b = np.array([12, 29])\n",
    "print(A)\n",
    "print(b)"
   ]
  },
  {
   "cell_type": "code",
   "execution_count": 58,
   "metadata": {
    "collapsed": false
   },
   "outputs": [
    {
     "name": "stdout",
     "output_type": "stream",
     "text": [
      "14.9330343737\n",
      "[ 5.   3.5]\n"
     ]
    }
   ],
   "source": [
    "print(np.linalg.cond(A))\n",
    "x = np.linalg.solve(A,b)\n",
    "print(x)"
   ]
  },
  {
   "cell_type": "markdown",
   "metadata": {},
   "source": [
    "To check that the solution is correct (that is, that $x$ that we computed satisfies $Ax = b$), we do matrix-vector multiplication. For that, function `dot` should be used:"
   ]
  },
  {
   "cell_type": "code",
   "execution_count": 59,
   "metadata": {
    "collapsed": false
   },
   "outputs": [
    {
     "data": {
      "text/plain": [
       "array([ 12.,  29.])"
      ]
     },
     "execution_count": 59,
     "metadata": {},
     "output_type": "execute_result"
    }
   ],
   "source": [
    "np.dot(A, x)"
   ]
  },
  {
   "cell_type": "markdown",
   "metadata": {},
   "source": [
    "and inner products of two vectors are computed with the same function:"
   ]
  },
  {
   "cell_type": "code",
   "execution_count": 60,
   "metadata": {
    "collapsed": false
   },
   "outputs": [
    {
     "data": {
      "text/plain": [
       "11"
      ]
     },
     "execution_count": 60,
     "metadata": {},
     "output_type": "execute_result"
    }
   ],
   "source": [
    "x = np.array([1, 2])\n",
    "y = np.array([3, 4])\n",
    "np.dot(x, y)"
   ]
  },
  {
   "cell_type": "markdown",
   "metadata": {},
   "source": [
    "We can also solve eigenvalue problems using function `linalg.eig`:"
   ]
  },
  {
   "cell_type": "code",
   "execution_count": 61,
   "metadata": {
    "collapsed": false
   },
   "outputs": [
    {
     "name": "stdout",
     "output_type": "stream",
     "text": [
      "[-0.37228132  5.37228132]\n",
      "[[-0.82456484 -0.41597356]\n",
      " [ 0.56576746 -0.90937671]]\n"
     ]
    }
   ],
   "source": [
    "lamda, V = np.linalg.eig(A)\n",
    "print(lamda)\n",
    "print(V)"
   ]
  },
  {
   "cell_type": "markdown",
   "metadata": {},
   "source": [
    "---\n",
    "### Exercise 4\n",
    "\n",
    "Create a diagonal matrix using the *lamda* variable and then multiply from the left with V and from the right with the inverse of V (use *np.linalg.inv()*). What do you find?"
   ]
  },
  {
   "cell_type": "code",
   "execution_count": null,
   "metadata": {
    "collapsed": false
   },
   "outputs": [],
   "source": [
    "# type your solution here"
   ]
  },
  {
   "cell_type": "markdown",
   "metadata": {},
   "source": [
    "##### Solution"
   ]
  },
  {
   "cell_type": "code",
   "execution_count": null,
   "metadata": {
    "collapsed": false
   },
   "outputs": [],
   "source": [
    "# %load solutions/session2/linear_algebra.py\n",
    "print(np.dot(np.dot(V,np.diag(lamda)),np.linalg.inv(V)))\n"
   ]
  },
  {
   "cell_type": "markdown",
   "metadata": {},
   "source": [
    "<p></br></p>\n",
    "<p></br></p>\n",
    "<p></br></p>"
   ]
  },
  {
   "cell_type": "markdown",
   "metadata": {},
   "source": [
    "## SciPy"
   ]
  },
  {
   "cell_type": "markdown",
   "metadata": {},
   "source": [
    "`NumPy` is complemented by `SciPy`; a library that adds more MATLAB-like features to Python.\n",
    "\n",
    "`SciPy` consists of several subpackages that can be used for linear algebra, image and signal processing, statistics, numerical integration of differential equations and more.\n",
    "\n",
    "Here we'll study only a couple of subpackages to get the idea of how useful `SciPy` is."
   ]
  },
  {
   "cell_type": "markdown",
   "metadata": {},
   "source": [
    "### Getting started\n"
   ]
  },
  {
   "cell_type": "markdown",
   "metadata": {},
   "source": [
    "It is customary to import subpackages of `SciPy` in the following manner:"
   ]
  },
  {
   "cell_type": "markdown",
   "metadata": {},
   "source": [
    "### Integration\n",
    "\n",
    "Subpackage `scipy.integrate` contains functions to compute quadratures and to solve ordinary differential equations.\n",
    "\n",
    "The numerical evaluation of the definite integral of a function is called numerical quadrature, or simply quadature. \n",
    "SciPy provides a series of functions for different kind of quadrature, for example the quad, dblquad and tplquad for single, double and triple integrals, respectively.\n",
    "\n",
    "Let's compute the Gauss integral numerically:\n",
    "\n",
    "$$ \\int_{-\\infty}^{+\\infty} \\exp(-x^2) \\, dx = \\sqrt \\pi $$"
   ]
  },
  {
   "cell_type": "code",
   "execution_count": 84,
   "metadata": {
    "collapsed": false
   },
   "outputs": [],
   "source": [
    "from scipy import integrate, special"
   ]
  },
  {
   "cell_type": "code",
   "execution_count": 85,
   "metadata": {
    "collapsed": false
   },
   "outputs": [
    {
     "name": "stdout",
     "output_type": "stream",
     "text": [
      "integral value = 1.7724538509055159 , absolute error = 7.768296244985151e-09 analytic value =  1.77245385091\n"
     ]
    }
   ],
   "source": [
    "xl = -1000  # the lower limit of x\n",
    "xu = +1000  # the upper limit of x\n",
    "\n",
    "def f(x):\n",
    "    return np.exp(-x**2)\n",
    "\n",
    "val, abserr = integrate.quad(f, xl, xu)\n",
    "\n",
    "print(\"integral value =\", val, \", absolute error =\", abserr, 'analytic value = ', np.sqrt(np.pi))"
   ]
  },
  {
   "cell_type": "markdown",
   "metadata": {},
   "source": [
    "We can pass extra arguments to integrand function, by using the `args` keyword argument.\n",
    "For example we can use `args=(3,)` for the third order Bessel function."
   ]
  },
  {
   "cell_type": "markdown",
   "metadata": {},
   "source": [
    "---\n",
    "### Exercise 5\n",
    "\n",
    "Compute the integral\n",
    "\n",
    "$$ \\int_{-1}^{1} x \\, dx $$\n",
    "\n",
    "and compare with the analytic value."
   ]
  },
  {
   "cell_type": "code",
   "execution_count": 86,
   "metadata": {
    "collapsed": false
   },
   "outputs": [],
   "source": [
    "# type your solution here"
   ]
  },
  {
   "cell_type": "markdown",
   "metadata": {},
   "source": [
    "##### Solution"
   ]
  },
  {
   "cell_type": "code",
   "execution_count": null,
   "metadata": {
    "collapsed": false
   },
   "outputs": [],
   "source": [
    "# %load solutions/session2/bessel_integral.py\n",
    "def integrand(x, n):\n",
    "    \"\"\"\n",
    "    Bessel function of first kind and order n. \n",
    "    \"\"\"\n",
    "    return special.jv(n, x)\n",
    "\n",
    "xl = 0  # the lower limit of x\n",
    "xu = 10 # the upper limit of x\n",
    "\n",
    "val, abserr = integrate.quad(integrand, xl, xu, args=(0,))\n",
    "\n",
    "print(val, abserr)"
   ]
  },
  {
   "cell_type": "markdown",
   "metadata": {
    "collapsed": true
   },
   "source": [
    "### Example of integration of system of ordinary differential equations"
   ]
  },
  {
   "cell_type": "markdown",
   "metadata": {},
   "source": [
    "We will have a look at the Lotka-Volterra model, also known as the predator-prey equations,\n",
    "which is a pair of first order, non-linear, differential equations frequently used to describe\n",
    "the dynamics of biological systems in which two species interact, one a predator and the other its prey.\n",
    "The model was proposed independently by Alfred J. Lotka in 1925 and Vito Volterra in 1926,\n",
    "and can be described by\n",
    "\n",
    "$$\n",
    "\\begin{align}\n",
    "\\frac{du}{dt} &= \\phantom{-}au - \\phantom{d}buv, \\\\\n",
    "\\frac{dv}{dt} &= -cv + dbuv, \\\\\n",
    "\\end{align}\n",
    "$$\n",
    "where\n",
    "*  $u(t)$: number of preys (for example, rabbits)\n",
    "\n",
    "*  $v(t)$: number of predators (for example, foxes)\n",
    "\n",
    "*  $a$, $b$, $c$, $d$ are constant parameters defining the behavior of the population:\n",
    "\n",
    "  + $a$ is the natural growing rate of rabbits, when there's no fox\n",
    "\n",
    "  + $b$ is the natural dying rate of rabbits, due to predation\n",
    "\n",
    "  + $c$ is the natural dying rate of fox, when there's no rabbit\n",
    "\n",
    "  + $d$ is the factor describing how many caught rabbits let create a new fox"
   ]
  },
  {
   "cell_type": "code",
   "execution_count": 91,
   "metadata": {
    "collapsed": false
   },
   "outputs": [
    {
     "data": {
      "image/png": "[encoded data removed]",
      "text/plain": [
       "<matplotlib.figure.Figure at 0x110c67b00>"
      ]
     },
     "metadata": {},
     "output_type": "display_data"
    }
   ],
   "source": [
    "a = 1.0\n",
    "b = 0.1\n",
    "c = 1.5\n",
    "d = 0.75\n",
    "\n",
    "def dy_dt(t, y):\n",
    "    \"\"\"Compute right-hand side of Lotka--Volterra system.\"\"\"\n",
    "    u, v = y[0], y[1]\n",
    "    return np.array([\n",
    "         a*u -   b*u*v,\n",
    "        -c*v + d*b*u*v\n",
    "    ])\n",
    "\n",
    "# Initial value.\n",
    "y0 = [10, 5]\n",
    "t0 = 0.0\n",
    "dt = 0.1\n",
    "tfinal = 10\n",
    "\n",
    "# Two lists that will hold the solution.\n",
    "times = np.linspace(0, tfinal, num=101)\n",
    "u = [y0[0]]\n",
    "v = [y0[1]]\n",
    "\n",
    "s = integrate.ode(dy_dt)\n",
    "s.set_integrator('dopri5')\n",
    "s.set_initial_value(y0, t0)\n",
    "\n",
    "for t in times[1:]:\n",
    "    s.integrate(t)\n",
    "    u.append(s.y[0])\n",
    "    v.append(s.y[1])\n",
    "    \n",
    "plt.figure()\n",
    "plt.plot(times, u, '-', label='Rabbits')\n",
    "plt.plot(times, v, '--', label='Foxes')\n",
    "plt.legend(loc='best');"
   ]
  },
  {
   "cell_type": "markdown",
   "metadata": {},
   "source": [
    "### Interpolation"
   ]
  },
  {
   "cell_type": "markdown",
   "metadata": {},
   "source": [
    "The `interpolate.interp1d` function accepts array of points $(X, Y)$ and returns a new function that can find interpolated values from this array.\n",
    "You can use an options for interpoland kinds such as linear, quadratic and cubic spline interpolation."
   ]
  },
  {
   "cell_type": "code",
   "execution_count": 92,
   "metadata": {
    "collapsed": false
   },
   "outputs": [],
   "source": [
    "from scipy import interpolate"
   ]
  },
  {
   "cell_type": "code",
   "execution_count": 93,
   "metadata": {
    "collapsed": false
   },
   "outputs": [],
   "source": [
    "x = np.linspace(0, 1, num=11)\n",
    "y = np.sin(2 * np.pi * x)\n",
    "\n",
    "f1 = interpolate.interp1d(x, y) # linear interpolation\n",
    "f3 = interpolate.interp1d(x, y, kind='cubic')"
   ]
  },
  {
   "cell_type": "code",
   "execution_count": 94,
   "metadata": {
    "collapsed": false,
    "scrolled": true
   },
   "outputs": [
    {
     "data": {
      "image/png": "[encoded data removed]",
      "text/plain": [
       "<matplotlib.figure.Figure at 0x111eab588>"
      ]
     },
     "metadata": {},
     "output_type": "display_data"
    }
   ],
   "source": [
    "# new points where we want to evaluate the interpoland\n",
    "xnew = np.linspace(0, 1, num=101)\n",
    "\n",
    "plt.figure(figsize=(12,4))\n",
    "plt.plot(x, y,'o', label='Given')\n",
    "plt.plot(xnew, f1(xnew), '-', label='linear')\n",
    "plt.plot(xnew, f3(xnew), '--', label='cubic')\n",
    "plt.legend(loc='best');"
   ]
  },
  {
   "cell_type": "markdown",
   "metadata": {},
   "source": [
    "## Fast Fourier Transform"
   ]
  },
  {
   "cell_type": "markdown",
   "metadata": {},
   "source": [
    "When you need to study the spectrum of a signal (function of time), you can use Fourier Transform for this.\n",
    "The implementation of the Fourier transform, known as Fast Fourier Transform, can be used with the help of subpackage `scipy.fftpack`.\n",
    "\n",
    "Let's apply Fast Fourier Transform to the signal:\n",
    "\n",
    "$$ y(t) = \\sin 2\\pi f t + \\text{normal noise},$$\n",
    "\n",
    "where $f = 4$.\n",
    "\n",
    "Suppose, that the signal is sampled with sampling rate 50 times per unit time (time step is 0.02).\n",
    "Hence, we can compute the spectrum with upper bound of frequency being 25."
   ]
  },
  {
   "cell_type": "code",
   "execution_count": 95,
   "metadata": {
    "collapsed": true
   },
   "outputs": [],
   "source": [
    "from scipy import fftpack"
   ]
  },
  {
   "cell_type": "code",
   "execution_count": 96,
   "metadata": {
    "collapsed": false
   },
   "outputs": [
    {
     "data": {
      "image/png": "[encoded data removed]",
      "text/plain": [
       "<matplotlib.figure.Figure at 0x11156b7b8>"
      ]
     },
     "metadata": {},
     "output_type": "display_data"
    }
   ],
   "source": [
    "f0 = 4\n",
    "timestep = 0.02\n",
    "tfinal = 10.0\n",
    "\n",
    "# Create the oscillator\n",
    "time = np.arange(0, tfinal, timestep)\n",
    "y = np.sin(2*np.pi*f0 * time)\n",
    "y = y + np.random.normal(size=len(y))\n",
    "\n",
    "# Use an FFT to calculate its spectrum\n",
    "yhat = fftpack.rfft(y)\n",
    "\n",
    "# Find the positive frequencies\n",
    "frequency = fftpack.rfftfreq(y.size, d=timestep)\n",
    "spectrum = 2*timestep*np.abs(yhat)\n",
    "\n",
    "# Create a figure\n",
    "fig, (ax1, ax2) = plt.subplots(2, 1)\n",
    "\n",
    "# Create x-y plots of the amplitude and transform with labeled axes\n",
    "\n",
    "ax1.set_xlabel('Time')\n",
    "ax1.set_ylabel('Signal')\n",
    "ax1.plot(time, y)\n",
    "\n",
    "ax2.set_xlabel('Frequency')\n",
    "ax2.set_ylabel('Power spectrum')\n",
    "ax2.plot(frequency, spectrum, '-')\n",
    "\n",
    "fig.tight_layout(pad=0.1)"
   ]
  },
  {
   "cell_type": "markdown",
   "metadata": {},
   "source": [
    "## Sparse matrices\n",
    "\n",
    "Sparse matrices are often useful in numerical analysis dealing with large systems.\n",
    "Whenever the problem involves vectors or matrices with mostly zero values then one should take advantage of the sparsity.\n",
    "SciPy has an extensive library for sparse matrices, with basic linear algebra operations (such as equation solving, eigenvalue calculations, etc)."
   ]
  },
  {
   "cell_type": "markdown",
   "metadata": {},
   "source": [
    "To create a sparse matrix we have to choose the format that will be stored in:"
   ]
  },
  {
   "cell_type": "code",
   "execution_count": 97,
   "metadata": {
    "collapsed": false
   },
   "outputs": [],
   "source": [
    "from scipy import sparse"
   ]
  },
  {
   "cell_type": "code",
   "execution_count": 98,
   "metadata": {
    "collapsed": false
   },
   "outputs": [
    {
     "data": {
      "text/plain": [
       "array([[  10. ,    0. ,    0. ,    0. ],\n",
       "       [   0. ,    0.3,    0. ,    0. ],\n",
       "       [   0. ,    2. ,    1.5,    0. ],\n",
       "       [  -3. ,    0. ,    0. ,  100. ]])"
      ]
     },
     "execution_count": 98,
     "metadata": {},
     "output_type": "execute_result"
    }
   ],
   "source": [
    "# dense matrix\n",
    "M = np.array([[10,0,0,0], [0,.3,0,0], [0,2,1.5,0], [-3,0,0,100]])\n",
    "M"
   ]
  },
  {
   "cell_type": "code",
   "execution_count": 99,
   "metadata": {
    "collapsed": false
   },
   "outputs": [
    {
     "data": {
      "text/plain": [
       "<4x4 sparse matrix of type '<class 'numpy.float64'>'\n",
       "\twith 6 stored elements in Compressed Sparse Row format>"
      ]
     },
     "execution_count": 99,
     "metadata": {},
     "output_type": "execute_result"
    }
   ],
   "source": [
    "# convert from dense to sparse\n",
    "M_sparse = sparse.csr_matrix(M); # or csc_matrix(M)\n",
    "M_sparse "
   ]
  },
  {
   "cell_type": "markdown",
   "metadata": {},
   "source": [
    "We can go back to the dense form:"
   ]
  },
  {
   "cell_type": "code",
   "execution_count": 100,
   "metadata": {
    "collapsed": false
   },
   "outputs": [
    {
     "name": "stdout",
     "output_type": "stream",
     "text": [
      "  (0, 0)\t10.0\n",
      "  (1, 1)\t0.3\n",
      "  (2, 1)\t2.0\n",
      "  (2, 2)\t1.5\n",
      "  (3, 0)\t-3.0\n",
      "  (3, 3)\t100.0\n",
      "[[  10.     0.     0.     0. ]\n",
      " [   0.     0.3    0.     0. ]\n",
      " [   0.     2.     1.5    0. ]\n",
      " [  -3.     0.     0.   100. ]]\n"
     ]
    }
   ],
   "source": [
    "print(M_sparse)\n",
    "print(M_sparse.todense())"
   ]
  },
  {
   "cell_type": "markdown",
   "metadata": {},
   "source": [
    "The easiest way to create a sparse matrix is to use the `lil_matrix` function.\n",
    "It creates an empty matrix and then we allocating non-zero entries by using matrix indexing.\n",
    "This way we avoid creating large dense matrices."
   ]
  },
  {
   "cell_type": "code",
   "execution_count": 101,
   "metadata": {
    "collapsed": false
   },
   "outputs": [
    {
     "data": {
      "text/plain": [
       "<4x4 sparse matrix of type '<class 'numpy.float64'>'\n",
       "\twith 6 stored elements in LInked List format>"
      ]
     },
     "execution_count": 101,
     "metadata": {},
     "output_type": "execute_result"
    }
   ],
   "source": [
    "A = sparse.lil_matrix((4,4)) # empty 4x4 sparse matrix\n",
    "A[0,0] = 1\n",
    "A[1,1] = 3\n",
    "A[2,2] = A[2,1] = 1\n",
    "A[3,3] = A[3,0] = 1\n",
    "A"
   ]
  },
  {
   "cell_type": "markdown",
   "metadata": {},
   "source": [
    "We can also change the format based on the sparsity:"
   ]
  },
  {
   "cell_type": "code",
   "execution_count": 102,
   "metadata": {
    "collapsed": false
   },
   "outputs": [
    {
     "data": {
      "text/plain": [
       "<4x4 sparse matrix of type '<class 'numpy.float64'>'\n",
       "\twith 6 stored elements in Compressed Sparse Row format>"
      ]
     },
     "execution_count": 102,
     "metadata": {},
     "output_type": "execute_result"
    }
   ],
   "source": [
    "A = sparse.csr_matrix(A); A # if the rows are sparse"
   ]
  },
  {
   "cell_type": "code",
   "execution_count": 103,
   "metadata": {
    "collapsed": false
   },
   "outputs": [
    {
     "data": {
      "text/plain": [
       "<4x4 sparse matrix of type '<class 'numpy.float64'>'\n",
       "\twith 6 stored elements in Compressed Sparse Column format>"
      ]
     },
     "execution_count": 103,
     "metadata": {},
     "output_type": "execute_result"
    }
   ],
   "source": [
    "A = sparse.csc_matrix(A); A # if the columns are sparse"
   ]
  },
  {
   "cell_type": "markdown",
   "metadata": {},
   "source": [
    "---\n",
    "### Exercise 6\n",
    "\n",
    "Construct a $10000 \\times 10000$ `lil_matrix` $A$ and add values to it by setting all rows and columns $2000$ to $3000$ into random values. Also set random diagonal entries (you can do this without a loop!). Then use the `spy` function from `matplotlib.pyplot` to \"spy\" the matrix.\n",
    "\n",
    "Using a vector $b$ with $10000$ random values solve the system $A x = b$. \n",
    "To do so use the direcet solver `linsolve` from `scipy.sparse.linalg.dsolve`.\n",
    "Change to different sparse formats (CSR and CSC) and measure the time needed to solve the system. You can use the `time` package."
   ]
  },
  {
   "cell_type": "code",
   "execution_count": 109,
   "metadata": {
    "collapsed": false
   },
   "outputs": [],
   "source": [
    "# type your solution here"
   ]
  },
  {
   "cell_type": "markdown",
   "metadata": {},
   "source": [
    "##### Solution"
   ]
  },
  {
   "cell_type": "code",
   "execution_count": 110,
   "metadata": {
    "collapsed": false
   },
   "outputs": [
    {
     "name": "stdout",
     "output_type": "stream",
     "text": [
      "Populating the interactive namespace from numpy and matplotlib\n"
     ]
    },
    {
     "data": {
      "image/png": "[encoded data removed]",
      "text/plain": [
       "<matplotlib.figure.Figure at 0x1121042e8>"
      ]
     },
     "metadata": {},
     "output_type": "display_data"
    },
    {
     "name": "stdout",
     "output_type": "stream",
     "text": [
      "residual: 1.48698589756e-12\n",
      "0.010876178741455078\n"
     ]
    }
   ],
   "source": [
    "# %load solutions/session2/sparse_matrices.py\n",
    "\"\"\"\n",
    "Construct a 1000x1000 lil_matrix and add some values to it, convert it\n",
    "to CSC format and solve A x = b for x with a direct solver.\n",
    "\"\"\"\n",
    "%pylab inline --no-import-all\n",
    "from matplotlib import pyplot as plt\n",
    "import numpy as np\n",
    "import scipy.sparse as sps\n",
    "from scipy.sparse.linalg.dsolve import linsolve\n",
    "import time\n",
    "\n",
    "rand = np.random.rand\n",
    "\n",
    "A = sps.lil_matrix((10000, 10000), dtype=np.float64)\n",
    "A[0::100, 2000:3000] = rand(1000)\n",
    "A.setdiag(rand(10000))\n",
    "\n",
    "A = A.tocsc() # Compressed Sparse Column format\n",
    "\n",
    "# Spy matrix\n",
    "plt.spy(A, marker='.', markersize=2)\n",
    "plt.show()\n",
    "\n",
    "b = rand(10000) # random rhs\n",
    "\n",
    "t1 = time.time() # initial time\n",
    "x = linsolve.spsolve(A, b) # solve system\n",
    "t2 = time.time() # final time\n",
    "print('residual:', np.linalg.norm(A * x - b))\n",
    "print(t2-t1)\n"
   ]
  },
  {
   "cell_type": "markdown",
   "metadata": {},
   "source": [
    "## References:\n",
    "\n",
    "#### NumPy:\n",
    "\n",
    "- [NumPy tutorial](http://www.scipy.org/Tentative_NumPy_Tutorial) \n",
    "- [NumPy tutorial video](http://showmedo.com/videotutorials/series?name=i9KuJuNcG) \n",
    "- [NumPy: lock 'n load](http://mentat.za.net/numpy/intro/intro.html)\n",
    "- [NumPy for Matlab users](http://www.scipy.org/NumPy_for_Matlab_Users)\n",
    "\n",
    "\n",
    "#### SciPy\n",
    "- [SciPy getting started](http://www.scipy.org/getting-started.html)\n",
    "- [SciPy tutorial](https://docs.scipy.org/doc/scipy-0.14.0/reference/tutorial/index.html)\n",
    "\n",
    "#### More general\n",
    "\n",
    "- [General Python tutorial](http://docs.python.org/tutorial/)\n",
    "- [Dive Into Python](http://diveintopython.org/)\n",
    "- [Hans Petter Langtangen book 1 (short)](https://link.springer.com/book/10.1007/978-3-319-32428-9)\n",
    "- [Hans Petter Langtangen book 2 (long)](http://link.springer.com/book/10.1007/978-3-662-49887-3)"
   ]
  },
  {
   "cell_type": "markdown",
   "metadata": {},
   "source": [
    "### Other packages\n",
    "Besides NumPy and Scipy, there are many other useful Python packages for scientific computing. Here is a short list:  \n",
    "\n",
    "- [matplotlib](http://www.matplotlib.org/) - plotting and visualization\n",
    "- [sympy](http://sympy.org/) - symbolic computation\n",
    "- [mpi4py](http://mpi4py.scipy.org/) - parallel computing\n",
    "- [petsc4py](http://code.google.com/p/petsc4py/), [pytrilinos](http://trilinos.sandia.gov/packages/pytrilinos/) - Python bindings for the \"big 2\" parallel scientific libraries\n",
    "- [pyCUDA](http://mathema.tician.de/software/pycuda), [pyOpenCL](http://mathema.tician.de/software/pyopencl) - GPGPU computing\n",
    "- [FENiCS](http://fenicsproject.org/), [FiPy](http://www.ctcms.nist.gov/fipy/), [PyClaw](http://numerics.kaust.edu.sa/pyclaw/) - solve complicated PDEs with very sophisticated numerical methods\n",
    "- [networkX](http://networkx.github.com/), [pygraphviz](http://networkx.lanl.gov/pygraphviz/) - graphs"
   ]
  },
  {
   "cell_type": "markdown",
   "metadata": {},
   "source": [
    "*Copyright 2017, ACM/SIAM Student Chapter of King Abdullah University of Science and Technology*"
   ]
  }
 ],
 "metadata": {
  "anaconda-cloud": {},
  "kernelspec": {
   "display_name": "Python 3",
   "language": "python",
   "name": "python3"
  },
  "language_info": {
   "codemirror_mode": {
    "name": "ipython",
    "version": 3
   },
   "file_extension": ".py",
   "mimetype": "text/x-python",
   "name": "python",
   "nbconvert_exporter": "python",
   "pygments_lexer": "ipython3",
   "version": "3.6.0"
  }
 },
 "nbformat": 4,
 "nbformat_minor": 0
}
